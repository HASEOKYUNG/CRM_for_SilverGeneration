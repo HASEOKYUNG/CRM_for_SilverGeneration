{
 "cells": [
  {
   "cell_type": "markdown",
   "id": "6d5e609a",
   "metadata": {},
   "source": [
    "## Import"
   ]
  },
  {
   "cell_type": "code",
   "execution_count": 1,
   "id": "0244c9da",
   "metadata": {},
   "outputs": [],
   "source": [
    "import numpy as np\n",
    "import pandas as pd\n",
    "import matplotlib.pyplot as plt\n",
    "import seaborn as sns\n",
    "plt.rc('font', family='Malgun Gothic')\n",
    "plt.rc('axes', unicode_minus=False)"
   ]
  },
  {
   "cell_type": "markdown",
   "id": "207597f4",
   "metadata": {},
   "source": [
    "## Read Data"
   ]
  },
  {
   "cell_type": "code",
   "execution_count": 2,
   "id": "0b5db11c",
   "metadata": {},
   "outputs": [
    {
     "name": "stdout",
     "output_type": "stream",
     "text": [
      "데이터 크기: (101692, 9)\n"
     ]
    }
   ],
   "source": [
    "# 구매 데이터 읽기\n",
    "purchase = pd.read_csv('../data/구매내역정보.csv', encoding='cp949')\n",
    "print('데이터 크기:', purchase.shape)"
   ]
  },
  {
   "cell_type": "code",
   "execution_count": 3,
   "id": "5d9cb82a",
   "metadata": {},
   "outputs": [
    {
     "data": {
      "text/html": [
       "<div>\n",
       "<style scoped>\n",
       "    .dataframe tbody tr th:only-of-type {\n",
       "        vertical-align: middle;\n",
       "    }\n",
       "\n",
       "    .dataframe tbody tr th {\n",
       "        vertical-align: top;\n",
       "    }\n",
       "\n",
       "    .dataframe thead th {\n",
       "        text-align: right;\n",
       "    }\n",
       "</style>\n",
       "<table border=\"1\" class=\"dataframe\">\n",
       "  <thead>\n",
       "    <tr style=\"text-align: right;\">\n",
       "      <th></th>\n",
       "      <th>ID</th>\n",
       "      <th>상품대분류명</th>\n",
       "      <th>상품중분류명</th>\n",
       "      <th>구매지역</th>\n",
       "      <th>구매일자</th>\n",
       "      <th>구매시간</th>\n",
       "      <th>구매수량</th>\n",
       "      <th>구매금액</th>\n",
       "      <th>취소여부</th>\n",
       "    </tr>\n",
       "  </thead>\n",
       "  <tbody>\n",
       "    <tr>\n",
       "      <th>95919</th>\n",
       "      <td>754705971</td>\n",
       "      <td>식품</td>\n",
       "      <td>가공식품</td>\n",
       "      <td>경기 구리시</td>\n",
       "      <td>20141111</td>\n",
       "      <td>19</td>\n",
       "      <td>2</td>\n",
       "      <td>2000</td>\n",
       "      <td>0</td>\n",
       "    </tr>\n",
       "    <tr>\n",
       "      <th>79112</th>\n",
       "      <td>961289868</td>\n",
       "      <td>생활잡화</td>\n",
       "      <td>화장품</td>\n",
       "      <td>경기 안양시</td>\n",
       "      <td>20141116</td>\n",
       "      <td>17</td>\n",
       "      <td>1</td>\n",
       "      <td>93000</td>\n",
       "      <td>0</td>\n",
       "    </tr>\n",
       "    <tr>\n",
       "      <th>61122</th>\n",
       "      <td>586518374</td>\n",
       "      <td>식품</td>\n",
       "      <td>가공식품</td>\n",
       "      <td>부산 중구</td>\n",
       "      <td>20141111</td>\n",
       "      <td>16</td>\n",
       "      <td>3</td>\n",
       "      <td>11000</td>\n",
       "      <td>0</td>\n",
       "    </tr>\n",
       "    <tr>\n",
       "      <th>2133</th>\n",
       "      <td>126094176</td>\n",
       "      <td>레포츠</td>\n",
       "      <td>골프용품/의류</td>\n",
       "      <td>서울 영등포구</td>\n",
       "      <td>20140720</td>\n",
       "      <td>11</td>\n",
       "      <td>1</td>\n",
       "      <td>29000</td>\n",
       "      <td>0</td>\n",
       "    </tr>\n",
       "    <tr>\n",
       "      <th>19489</th>\n",
       "      <td>367667289</td>\n",
       "      <td>의류잡화</td>\n",
       "      <td>아동용의류</td>\n",
       "      <td>경기 부천시</td>\n",
       "      <td>20140618</td>\n",
       "      <td>13</td>\n",
       "      <td>1</td>\n",
       "      <td>21000</td>\n",
       "      <td>0</td>\n",
       "    </tr>\n",
       "  </tbody>\n",
       "</table>\n",
       "</div>"
      ],
      "text/plain": [
       "              ID 상품대분류명   상품중분류명     구매지역      구매일자  구매시간  구매수량   구매금액  취소여부\n",
       "95919  754705971     식품     가공식품   경기 구리시  20141111    19     2   2000     0\n",
       "79112  961289868   생활잡화      화장품   경기 안양시  20141116    17     1  93000     0\n",
       "61122  586518374     식품     가공식품    부산 중구  20141111    16     3  11000     0\n",
       "2133   126094176    레포츠  골프용품/의류  서울 영등포구  20140720    11     1  29000     0\n",
       "19489  367667289   의류잡화    아동용의류   경기 부천시  20140618    13     1  21000     0"
      ]
     },
     "execution_count": 3,
     "metadata": {},
     "output_type": "execute_result"
    }
   ],
   "source": [
    "purchase.sample(5)"
   ]
  },
  {
   "cell_type": "markdown",
   "id": "0ae6d0ab",
   "metadata": {},
   "source": [
    "## 상품중분류명"
   ]
  },
  {
   "cell_type": "code",
   "execution_count": 4,
   "id": "29f6c757",
   "metadata": {
    "scrolled": true
   },
   "outputs": [
    {
     "data": {
      "text/plain": [
       "array(['여성용의류-정장류', '농산물', '음료', '남성용의류-캐주얼', '여성용의류-SPA', '주방가전',\n",
       "       'TV/AV', '남성용의류-정장류', '가공식품', '휴대폰/태블릿', '생활가전', '골프용품/의류',\n",
       "       '스포츠용품/의류', '화장품', '아동용의류', '주방용품', 'PC/노트북/프린터/카메라', '가구', '구두',\n",
       "       '패션잡화', '침구류', '생활용품', '컴퓨터주변기기', '수산물', '축산물', '여성용의류-고급의류', '명품',\n",
       "       '건강식품', '여성용의류-이너웨어', '여성용의류-캐주얼', '주얼리'], dtype=object)"
      ]
     },
     "execution_count": 4,
     "metadata": {},
     "output_type": "execute_result"
    }
   ],
   "source": [
    "# 중복되는 상품중분류명은 없다.\n",
    "purchase.상품중분류명.unique()"
   ]
  },
  {
   "cell_type": "markdown",
   "id": "cea838ac",
   "metadata": {},
   "source": [
    "## 구매지역"
   ]
  },
  {
   "cell_type": "code",
   "execution_count": 5,
   "id": "9650795d",
   "metadata": {},
   "outputs": [
    {
     "data": {
      "text/plain": [
       "서울    49838\n",
       "경기    31248\n",
       "부산    20606\n",
       "Name: 0, dtype: int64"
      ]
     },
     "execution_count": 5,
     "metadata": {},
     "output_type": "execute_result"
    }
   ],
   "source": [
    "# 서울, 경기, 부산에서 이루어진 거래만 대상으로 한다.\n",
    "purchase['구매지역'].str.split(' ', expand=True)[0].value_counts()"
   ]
  },
  {
   "cell_type": "markdown",
   "id": "65a71165",
   "metadata": {},
   "source": [
    "## 거래 기간"
   ]
  },
  {
   "cell_type": "code",
   "execution_count": 6,
   "id": "a56b11e5",
   "metadata": {},
   "outputs": [
    {
     "name": "stdout",
     "output_type": "stream",
     "text": [
      "거래 기간:  20140101 ~ 20141231\n"
     ]
    }
   ],
   "source": [
    "print('거래 기간: ', purchase['구매일자'].min(), '~', purchase['구매일자'].max())"
   ]
  },
  {
   "cell_type": "markdown",
   "id": "7141515e",
   "metadata": {},
   "source": [
    "## 매장 영업 시간\n",
    "- 롯데 계열사의 영업 시간은 10시부터 20시까지이다."
   ]
  },
  {
   "cell_type": "code",
   "execution_count": 7,
   "id": "b3d0d215",
   "metadata": {},
   "outputs": [
    {
     "name": "stdout",
     "output_type": "stream",
     "text": [
      "데이터 크기: (101325, 9)\n"
     ]
    }
   ],
   "source": [
    "# 영업시간 외의 데이터는 삭제한다.\n",
    "purchase = purchase.query('10 <= 구매시간 <= 20').reset_index(drop=True)\n",
    "print('데이터 크기:', purchase.shape)"
   ]
  },
  {
   "cell_type": "markdown",
   "id": "f6fa57b6",
   "metadata": {},
   "source": [
    "## 구매일자"
   ]
  },
  {
   "cell_type": "code",
   "execution_count": 8,
   "id": "0bcc3c10",
   "metadata": {},
   "outputs": [
    {
     "data": {
      "text/html": [
       "<div>\n",
       "<style scoped>\n",
       "    .dataframe tbody tr th:only-of-type {\n",
       "        vertical-align: middle;\n",
       "    }\n",
       "\n",
       "    .dataframe tbody tr th {\n",
       "        vertical-align: top;\n",
       "    }\n",
       "\n",
       "    .dataframe thead th {\n",
       "        text-align: right;\n",
       "    }\n",
       "</style>\n",
       "<table border=\"1\" class=\"dataframe\">\n",
       "  <thead>\n",
       "    <tr style=\"text-align: right;\">\n",
       "      <th></th>\n",
       "      <th>ID</th>\n",
       "      <th>상품대분류명</th>\n",
       "      <th>상품중분류명</th>\n",
       "      <th>구매지역</th>\n",
       "      <th>구매일자</th>\n",
       "      <th>구매시간</th>\n",
       "      <th>구매수량</th>\n",
       "      <th>구매금액</th>\n",
       "      <th>취소여부</th>\n",
       "    </tr>\n",
       "  </thead>\n",
       "  <tbody>\n",
       "    <tr>\n",
       "      <th>2354</th>\n",
       "      <td>192448946</td>\n",
       "      <td>의류잡화</td>\n",
       "      <td>아동용의류</td>\n",
       "      <td>경기 구리시</td>\n",
       "      <td>2014-08-05 11:00:00</td>\n",
       "      <td>11</td>\n",
       "      <td>1</td>\n",
       "      <td>62000</td>\n",
       "      <td>0</td>\n",
       "    </tr>\n",
       "    <tr>\n",
       "      <th>42948</th>\n",
       "      <td>287927197</td>\n",
       "      <td>의류잡화</td>\n",
       "      <td>구두</td>\n",
       "      <td>서울 영등포구</td>\n",
       "      <td>2014-08-25 15:00:00</td>\n",
       "      <td>15</td>\n",
       "      <td>1</td>\n",
       "      <td>53000</td>\n",
       "      <td>0</td>\n",
       "    </tr>\n",
       "    <tr>\n",
       "      <th>50011</th>\n",
       "      <td>784655847</td>\n",
       "      <td>의류잡화</td>\n",
       "      <td>여성용의류-SPA</td>\n",
       "      <td>경기 성남시</td>\n",
       "      <td>2014-07-15 15:00:00</td>\n",
       "      <td>15</td>\n",
       "      <td>1</td>\n",
       "      <td>50000</td>\n",
       "      <td>0</td>\n",
       "    </tr>\n",
       "    <tr>\n",
       "      <th>18413</th>\n",
       "      <td>299252586</td>\n",
       "      <td>식품</td>\n",
       "      <td>가공식품</td>\n",
       "      <td>부산 중구</td>\n",
       "      <td>2014-11-30 13:00:00</td>\n",
       "      <td>13</td>\n",
       "      <td>1</td>\n",
       "      <td>16000</td>\n",
       "      <td>0</td>\n",
       "    </tr>\n",
       "    <tr>\n",
       "      <th>60113</th>\n",
       "      <td>510523117</td>\n",
       "      <td>명품</td>\n",
       "      <td>명품</td>\n",
       "      <td>서울 영등포구</td>\n",
       "      <td>2014-08-20 16:00:00</td>\n",
       "      <td>16</td>\n",
       "      <td>1</td>\n",
       "      <td>87000</td>\n",
       "      <td>0</td>\n",
       "    </tr>\n",
       "  </tbody>\n",
       "</table>\n",
       "</div>"
      ],
      "text/plain": [
       "              ID 상품대분류명     상품중분류명     구매지역                구매일자  구매시간  구매수량  \\\n",
       "2354   192448946   의류잡화      아동용의류   경기 구리시 2014-08-05 11:00:00    11     1   \n",
       "42948  287927197   의류잡화         구두  서울 영등포구 2014-08-25 15:00:00    15     1   \n",
       "50011  784655847   의류잡화  여성용의류-SPA   경기 성남시 2014-07-15 15:00:00    15     1   \n",
       "18413  299252586     식품       가공식품    부산 중구 2014-11-30 13:00:00    13     1   \n",
       "60113  510523117     명품         명품  서울 영등포구 2014-08-20 16:00:00    16     1   \n",
       "\n",
       "        구매금액  취소여부  \n",
       "2354   62000     0  \n",
       "42948  53000     0  \n",
       "50011  50000     0  \n",
       "18413  16000     0  \n",
       "60113  87000     0  "
      ]
     },
     "execution_count": 8,
     "metadata": {},
     "output_type": "execute_result"
    }
   ],
   "source": [
    "# 구매일과 구매시간을 합친다.\n",
    "purchase['구매일자'] = pd.to_datetime(purchase['구매일자'].astype(str)+purchase['구매시간'].astype(str).str.zfill(2), \n",
    "                                      format='%Y%m%d%H')\n",
    "purchase.sample(5)"
   ]
  },
  {
   "cell_type": "markdown",
   "id": "9853b30d",
   "metadata": {},
   "source": [
    "## `구매금액`"
   ]
  },
  {
   "cell_type": "markdown",
   "id": "1cec56ab",
   "metadata": {},
   "source": [
    "## 취소 여부"
   ]
  },
  {
   "cell_type": "code",
   "execution_count": 9,
   "id": "a0878403",
   "metadata": {},
   "outputs": [
    {
     "data": {
      "text/plain": [
       "0    92980\n",
       "1     8345\n",
       "Name: 취소여부, dtype: int64"
      ]
     },
     "execution_count": 9,
     "metadata": {},
     "output_type": "execute_result"
    }
   ],
   "source": [
    "purchase.취소여부.value_counts()"
   ]
  },
  {
   "cell_type": "code",
   "execution_count": 10,
   "id": "a6582844",
   "metadata": {},
   "outputs": [
    {
     "data": {
      "text/plain": [
       "상품대분류명\n",
       "가구        56\n",
       "가전제품     456\n",
       "레포츠     1213\n",
       "명품       203\n",
       "생활잡화     826\n",
       "식품       690\n",
       "의류잡화    4901\n",
       "Name: 취소여부, dtype: int64"
      ]
     },
     "execution_count": 10,
     "metadata": {},
     "output_type": "execute_result"
    }
   ],
   "source": [
    "purchase.groupby('상품대분류명')['취소여부'].sum()"
   ]
  },
  {
   "cell_type": "code",
   "execution_count": 11,
   "id": "a068ced0",
   "metadata": {
    "scrolled": false
   },
   "outputs": [
    {
     "data": {
      "text/plain": [
       "상품중분류명\n",
       "여성용의류-SPA         1826\n",
       "스포츠용품/의류           913\n",
       "여성용의류-정장류          885\n",
       "남성용의류-캐주얼          491\n",
       "구두                 434\n",
       "화장품                419\n",
       "여성용의류-고급의류         390\n",
       "주방가전               316\n",
       "골프용품/의류            300\n",
       "남성용의류-정장류          221\n",
       "침구류                221\n",
       "아동용의류              218\n",
       "가공식품               210\n",
       "패션잡화               209\n",
       "명품                 203\n",
       "여성용의류-이너웨어         186\n",
       "농산물                143\n",
       "건강식품               118\n",
       "주방용품               108\n",
       "음료                  94\n",
       "생활가전                83\n",
       "생활용품                78\n",
       "축산물                 63\n",
       "수산물                 62\n",
       "가구                  56\n",
       "TV/AV               46\n",
       "주얼리                 28\n",
       "여성용의류-캐주얼           13\n",
       "PC/노트북/프린터/카메라      11\n",
       "컴퓨터주변기기              0\n",
       "휴대폰/태블릿              0\n",
       "Name: 취소여부, dtype: int64"
      ]
     },
     "execution_count": 11,
     "metadata": {},
     "output_type": "execute_result"
    }
   ],
   "source": [
    "# 의류의 환불이 많다.\n",
    "purchase.groupby('상품중분류명')['취소여부'].sum().sort_values(ascending=False)"
   ]
  },
  {
   "cell_type": "markdown",
   "id": "6cb345b0",
   "metadata": {},
   "source": [
    "## Save data"
   ]
  },
  {
   "cell_type": "code",
   "execution_count": 12,
   "id": "c75cc26e",
   "metadata": {},
   "outputs": [],
   "source": [
    "purchase.to_csv('../data/DC_구매내역정보.csv', index=False, encoding='cp949')"
   ]
  },
  {
   "cell_type": "code",
   "execution_count": null,
   "id": "7ce504e5",
   "metadata": {},
   "outputs": [],
   "source": []
  }
 ],
 "metadata": {
  "kernelspec": {
   "display_name": "Python 3 (ipykernel)",
   "language": "python",
   "name": "python3"
  },
  "language_info": {
   "codemirror_mode": {
    "name": "ipython",
    "version": 3
   },
   "file_extension": ".py",
   "mimetype": "text/x-python",
   "name": "python",
   "nbconvert_exporter": "python",
   "pygments_lexer": "ipython3",
   "version": "3.9.12"
  }
 },
 "nbformat": 4,
 "nbformat_minor": 5
}
