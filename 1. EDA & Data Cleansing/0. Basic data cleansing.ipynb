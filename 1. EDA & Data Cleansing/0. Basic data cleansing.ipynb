{
 "cells": [
  {
   "cell_type": "markdown",
   "id": "6d5e609a",
   "metadata": {},
   "source": [
    "## Import"
   ]
  },
  {
   "cell_type": "code",
   "execution_count": 1,
   "id": "0244c9da",
   "metadata": {},
   "outputs": [],
   "source": [
    "import numpy as np\n",
    "import pandas as pd\n",
    "import matplotlib.pyplot as plt\n",
    "import seaborn as sns\n",
    "plt.rc('font', family='Malgun Gothic')\n",
    "plt.rc('axes', unicode_minus=False)"
   ]
  },
  {
   "cell_type": "markdown",
   "id": "207597f4",
   "metadata": {},
   "source": [
    "## Read Data"
   ]
  },
  {
   "cell_type": "code",
   "execution_count": 2,
   "id": "0b5db11c",
   "metadata": {},
   "outputs": [
    {
     "name": "stdout",
     "output_type": "stream",
     "text": [
      "고객 데이터 크기: (3542, 4)\n",
      "구매 데이터 크기: (101692, 9)\n"
     ]
    }
   ],
   "source": [
    "# 고객 데이터 읽기\n",
    "demo = pd.read_csv('../data/Demo.csv', encoding='cp949')\n",
    "print('고객 데이터 크기:', demo.shape)\n",
    "\n",
    "# 구매 데이터 읽기\n",
    "purchase = pd.read_csv('../data/구매내역정보.csv', encoding='cp949')\n",
    "print('구매 데이터 크기:', purchase.shape)"
   ]
  },
  {
   "cell_type": "code",
   "execution_count": 3,
   "id": "5d9cb82a",
   "metadata": {},
   "outputs": [
    {
     "data": {
      "text/html": [
       "<div>\n",
       "<style scoped>\n",
       "    .dataframe tbody tr th:only-of-type {\n",
       "        vertical-align: middle;\n",
       "    }\n",
       "\n",
       "    .dataframe tbody tr th {\n",
       "        vertical-align: top;\n",
       "    }\n",
       "\n",
       "    .dataframe thead th {\n",
       "        text-align: right;\n",
       "    }\n",
       "</style>\n",
       "<table border=\"1\" class=\"dataframe\">\n",
       "  <thead>\n",
       "    <tr style=\"text-align: right;\">\n",
       "      <th></th>\n",
       "      <th>ID</th>\n",
       "      <th>성별</th>\n",
       "      <th>연령</th>\n",
       "      <th>거주지역</th>\n",
       "    </tr>\n",
       "  </thead>\n",
       "  <tbody>\n",
       "    <tr>\n",
       "      <th>1053</th>\n",
       "      <td>192342761</td>\n",
       "      <td>2</td>\n",
       "      <td>59</td>\n",
       "      <td>부산 수영구</td>\n",
       "    </tr>\n",
       "    <tr>\n",
       "      <th>852</th>\n",
       "      <td>941046914</td>\n",
       "      <td>2</td>\n",
       "      <td>60</td>\n",
       "      <td>서울 영등포구</td>\n",
       "    </tr>\n",
       "    <tr>\n",
       "      <th>1178</th>\n",
       "      <td>784655847</td>\n",
       "      <td>1</td>\n",
       "      <td>58</td>\n",
       "      <td>경기 성남시</td>\n",
       "    </tr>\n",
       "    <tr>\n",
       "      <th>1023</th>\n",
       "      <td>615322673</td>\n",
       "      <td>1</td>\n",
       "      <td>59</td>\n",
       "      <td>부산 강서구</td>\n",
       "    </tr>\n",
       "    <tr>\n",
       "      <th>1752</th>\n",
       "      <td>292863602</td>\n",
       "      <td>2</td>\n",
       "      <td>55</td>\n",
       "      <td>부산 동구</td>\n",
       "    </tr>\n",
       "  </tbody>\n",
       "</table>\n",
       "</div>"
      ],
      "text/plain": [
       "             ID  성별  연령     거주지역\n",
       "1053  192342761   2  59   부산 수영구\n",
       "852   941046914   2  60  서울 영등포구\n",
       "1178  784655847   1  58   경기 성남시\n",
       "1023  615322673   1  59   부산 강서구\n",
       "1752  292863602   2  55    부산 동구"
      ]
     },
     "execution_count": 3,
     "metadata": {},
     "output_type": "execute_result"
    }
   ],
   "source": [
    "# 특별히 전처리할 column이 없다.\n",
    "demo.sample(5)"
   ]
  },
  {
   "cell_type": "code",
   "execution_count": 4,
   "id": "b9e7dc78",
   "metadata": {},
   "outputs": [
    {
     "data": {
      "text/html": [
       "<div>\n",
       "<style scoped>\n",
       "    .dataframe tbody tr th:only-of-type {\n",
       "        vertical-align: middle;\n",
       "    }\n",
       "\n",
       "    .dataframe tbody tr th {\n",
       "        vertical-align: top;\n",
       "    }\n",
       "\n",
       "    .dataframe thead th {\n",
       "        text-align: right;\n",
       "    }\n",
       "</style>\n",
       "<table border=\"1\" class=\"dataframe\">\n",
       "  <thead>\n",
       "    <tr style=\"text-align: right;\">\n",
       "      <th></th>\n",
       "      <th>ID</th>\n",
       "      <th>상품대분류명</th>\n",
       "      <th>상품중분류명</th>\n",
       "      <th>구매지역</th>\n",
       "      <th>구매일자</th>\n",
       "      <th>구매시간</th>\n",
       "      <th>구매수량</th>\n",
       "      <th>구매금액</th>\n",
       "      <th>취소여부</th>\n",
       "    </tr>\n",
       "  </thead>\n",
       "  <tbody>\n",
       "    <tr>\n",
       "      <th>7255</th>\n",
       "      <td>40012235</td>\n",
       "      <td>식품</td>\n",
       "      <td>농산물</td>\n",
       "      <td>경기 고양시</td>\n",
       "      <td>20140530</td>\n",
       "      <td>12</td>\n",
       "      <td>2</td>\n",
       "      <td>12000</td>\n",
       "      <td>0</td>\n",
       "    </tr>\n",
       "    <tr>\n",
       "      <th>1134</th>\n",
       "      <td>864551451</td>\n",
       "      <td>가전제품</td>\n",
       "      <td>TV/AV</td>\n",
       "      <td>서울 송파구</td>\n",
       "      <td>20140705</td>\n",
       "      <td>10</td>\n",
       "      <td>1</td>\n",
       "      <td>1634000</td>\n",
       "      <td>0</td>\n",
       "    </tr>\n",
       "    <tr>\n",
       "      <th>41350</th>\n",
       "      <td>158108371</td>\n",
       "      <td>식품</td>\n",
       "      <td>가공식품</td>\n",
       "      <td>서울 송파구</td>\n",
       "      <td>20141227</td>\n",
       "      <td>15</td>\n",
       "      <td>1</td>\n",
       "      <td>13000</td>\n",
       "      <td>0</td>\n",
       "    </tr>\n",
       "    <tr>\n",
       "      <th>72845</th>\n",
       "      <td>456108195</td>\n",
       "      <td>식품</td>\n",
       "      <td>축산물</td>\n",
       "      <td>부산 중구</td>\n",
       "      <td>20140725</td>\n",
       "      <td>17</td>\n",
       "      <td>1</td>\n",
       "      <td>8000</td>\n",
       "      <td>0</td>\n",
       "    </tr>\n",
       "    <tr>\n",
       "      <th>33149</th>\n",
       "      <td>543745613</td>\n",
       "      <td>의류잡화</td>\n",
       "      <td>여성용의류-SPA</td>\n",
       "      <td>서울 관악구</td>\n",
       "      <td>20141026</td>\n",
       "      <td>14</td>\n",
       "      <td>1</td>\n",
       "      <td>35000</td>\n",
       "      <td>0</td>\n",
       "    </tr>\n",
       "  </tbody>\n",
       "</table>\n",
       "</div>"
      ],
      "text/plain": [
       "              ID 상품대분류명     상품중분류명    구매지역      구매일자  구매시간  구매수량     구매금액  \\\n",
       "7255    40012235     식품        농산물  경기 고양시  20140530    12     2    12000   \n",
       "1134   864551451   가전제품      TV/AV  서울 송파구  20140705    10     1  1634000   \n",
       "41350  158108371     식품       가공식품  서울 송파구  20141227    15     1    13000   \n",
       "72845  456108195     식품        축산물   부산 중구  20140725    17     1     8000   \n",
       "33149  543745613   의류잡화  여성용의류-SPA  서울 관악구  20141026    14     1    35000   \n",
       "\n",
       "       취소여부  \n",
       "7255      0  \n",
       "1134      0  \n",
       "41350     0  \n",
       "72845     0  \n",
       "33149     0  "
      ]
     },
     "execution_count": 4,
     "metadata": {},
     "output_type": "execute_result"
    }
   ],
   "source": [
    "purchase.sample(5)"
   ]
  },
  {
   "cell_type": "markdown",
   "id": "0ae6d0ab",
   "metadata": {},
   "source": [
    "### 상품중분류명"
   ]
  },
  {
   "cell_type": "code",
   "execution_count": 5,
   "id": "4630c755",
   "metadata": {},
   "outputs": [
    {
     "data": {
      "text/plain": [
       "상품대분류명\n",
       "가구                                                   [가구]\n",
       "가전제품    [주방가전, TV/AV, 휴대폰/태블릿, 생활가전, PC/노트북/프린터/카메라, 컴...\n",
       "레포츠                                   [골프용품/의류, 스포츠용품/의류]\n",
       "명품                                                   [명품]\n",
       "생활잡화                               [화장품, 주방용품, 침구류, 생활용품]\n",
       "식품                        [농산물, 음료, 가공식품, 수산물, 축산물, 건강식품]\n",
       "의류잡화    [여성용의류-정장류, 남성용의류-캐주얼, 여성용의류-SPA, 남성용의류-정장류, 아...\n",
       "Name: 상품중분류명, dtype: object"
      ]
     },
     "execution_count": 5,
     "metadata": {},
     "output_type": "execute_result"
    }
   ],
   "source": [
    "# 의류잡화가 가장 세세히 구분되어 있다.\n",
    "purchase.groupby('상품대분류명')['상품중분류명'].unique()"
   ]
  },
  {
   "cell_type": "code",
   "execution_count": 6,
   "id": "3e0bde93",
   "metadata": {
    "scrolled": false
   },
   "outputs": [
    {
     "data": {
      "text/plain": [
       "상품중분류명\n",
       "여성용의류-SPA    1832\n",
       "스포츠용품/의류      913\n",
       "여성용의류-정장류     885\n",
       "남성용의류-캐주얼     491\n",
       "구두            434\n",
       "Name: 취소여부, dtype: int64"
      ]
     },
     "execution_count": 6,
     "metadata": {},
     "output_type": "execute_result"
    }
   ],
   "source": [
    "# 상위 5개 환불 상품중분류명 모두 의류잡화이다.\n",
    "purchase.groupby('상품중분류명')['취소여부'].sum().sort_values(ascending=False).iloc[:5]"
   ]
  },
  {
   "cell_type": "markdown",
   "id": "cea838ac",
   "metadata": {},
   "source": [
    "### 구매지역"
   ]
  },
  {
   "cell_type": "code",
   "execution_count": 7,
   "id": "9650795d",
   "metadata": {
    "scrolled": true
   },
   "outputs": [
    {
     "data": {
      "text/plain": [
       "서울    49838\n",
       "경기    31248\n",
       "부산    20606\n",
       "Name: 0, dtype: int64"
      ]
     },
     "execution_count": 7,
     "metadata": {},
     "output_type": "execute_result"
    }
   ],
   "source": [
    "# 서울, 경기, 부산에서 이루어진 거래만 대상으로 한다.\n",
    "purchase['구매지역'].str.split(' ', expand=True)[0].value_counts()"
   ]
  },
  {
   "cell_type": "code",
   "execution_count": 8,
   "id": "e1496218",
   "metadata": {},
   "outputs": [
    {
     "data": {
      "text/plain": [
       "1     1417\n",
       "2     1233\n",
       "3      571\n",
       "4      208\n",
       "5       75\n",
       "6       27\n",
       "7        5\n",
       "8        4\n",
       "13       1\n",
       "11       1\n",
       "Name: 구매지역, dtype: int64"
      ]
     },
     "execution_count": 8,
     "metadata": {},
     "output_type": "execute_result"
    }
   ],
   "source": [
    "# 여러 매장을 이용하는 고객도 있다.\n",
    "purchase.groupby('ID')['구매지역'].nunique().value_counts()"
   ]
  },
  {
   "cell_type": "markdown",
   "id": "65a71165",
   "metadata": {},
   "source": [
    "### 거래 기간"
   ]
  },
  {
   "cell_type": "code",
   "execution_count": 9,
   "id": "a56b11e5",
   "metadata": {
    "scrolled": true
   },
   "outputs": [
    {
     "name": "stdout",
     "output_type": "stream",
     "text": [
      "거래 기간:  20140101 ~ 20141231\n"
     ]
    }
   ],
   "source": [
    "print('거래 기간: ', purchase['구매일자'].min(), '~', purchase['구매일자'].max())"
   ]
  },
  {
   "cell_type": "code",
   "execution_count": 10,
   "id": "add8342d",
   "metadata": {},
   "outputs": [
    {
     "data": {
      "text/html": [
       "<div>\n",
       "<style scoped>\n",
       "    .dataframe tbody tr th:only-of-type {\n",
       "        vertical-align: middle;\n",
       "    }\n",
       "\n",
       "    .dataframe tbody tr th {\n",
       "        vertical-align: top;\n",
       "    }\n",
       "\n",
       "    .dataframe thead th {\n",
       "        text-align: right;\n",
       "    }\n",
       "</style>\n",
       "<table border=\"1\" class=\"dataframe\">\n",
       "  <thead>\n",
       "    <tr style=\"text-align: right;\">\n",
       "      <th></th>\n",
       "      <th>ID</th>\n",
       "      <th>상품대분류명</th>\n",
       "      <th>상품중분류명</th>\n",
       "      <th>구매지역</th>\n",
       "      <th>구매일자</th>\n",
       "      <th>구매시간</th>\n",
       "      <th>구매수량</th>\n",
       "      <th>구매금액</th>\n",
       "      <th>취소여부</th>\n",
       "      <th>구매일</th>\n",
       "    </tr>\n",
       "  </thead>\n",
       "  <tbody>\n",
       "    <tr>\n",
       "      <th>0</th>\n",
       "      <td>410362886</td>\n",
       "      <td>의류잡화</td>\n",
       "      <td>여성용의류-정장류</td>\n",
       "      <td>서울 송파구</td>\n",
       "      <td>20140510</td>\n",
       "      <td>1</td>\n",
       "      <td>1</td>\n",
       "      <td>198000</td>\n",
       "      <td>0</td>\n",
       "      <td>20140510</td>\n",
       "    </tr>\n",
       "    <tr>\n",
       "      <th>1</th>\n",
       "      <td>643279402</td>\n",
       "      <td>식품</td>\n",
       "      <td>농산물</td>\n",
       "      <td>경기 성남시</td>\n",
       "      <td>20140612</td>\n",
       "      <td>1</td>\n",
       "      <td>1</td>\n",
       "      <td>2000</td>\n",
       "      <td>0</td>\n",
       "      <td>20140612</td>\n",
       "    </tr>\n",
       "    <tr>\n",
       "      <th>2</th>\n",
       "      <td>643279402</td>\n",
       "      <td>식품</td>\n",
       "      <td>농산물</td>\n",
       "      <td>경기 성남시</td>\n",
       "      <td>20140612</td>\n",
       "      <td>1</td>\n",
       "      <td>1</td>\n",
       "      <td>4000</td>\n",
       "      <td>0</td>\n",
       "      <td>20140612</td>\n",
       "    </tr>\n",
       "    <tr>\n",
       "      <th>3</th>\n",
       "      <td>643279402</td>\n",
       "      <td>식품</td>\n",
       "      <td>농산물</td>\n",
       "      <td>경기 성남시</td>\n",
       "      <td>20140612</td>\n",
       "      <td>1</td>\n",
       "      <td>1</td>\n",
       "      <td>5000</td>\n",
       "      <td>0</td>\n",
       "      <td>20140612</td>\n",
       "    </tr>\n",
       "    <tr>\n",
       "      <th>4</th>\n",
       "      <td>643279402</td>\n",
       "      <td>식품</td>\n",
       "      <td>농산물</td>\n",
       "      <td>경기 성남시</td>\n",
       "      <td>20140612</td>\n",
       "      <td>1</td>\n",
       "      <td>1</td>\n",
       "      <td>9000</td>\n",
       "      <td>0</td>\n",
       "      <td>20140612</td>\n",
       "    </tr>\n",
       "  </tbody>\n",
       "</table>\n",
       "</div>"
      ],
      "text/plain": [
       "          ID 상품대분류명     상품중분류명    구매지역      구매일자  구매시간  구매수량    구매금액  취소여부  \\\n",
       "0  410362886   의류잡화  여성용의류-정장류  서울 송파구  20140510     1     1  198000     0   \n",
       "1  643279402     식품        농산물  경기 성남시  20140612     1     1    2000     0   \n",
       "2  643279402     식품        농산물  경기 성남시  20140612     1     1    4000     0   \n",
       "3  643279402     식품        농산물  경기 성남시  20140612     1     1    5000     0   \n",
       "4  643279402     식품        농산물  경기 성남시  20140612     1     1    9000     0   \n",
       "\n",
       "        구매일  \n",
       "0  20140510  \n",
       "1  20140612  \n",
       "2  20140612  \n",
       "3  20140612  \n",
       "4  20140612  "
      ]
     },
     "execution_count": 10,
     "metadata": {},
     "output_type": "execute_result"
    }
   ],
   "source": [
    "# [DC] 컬럼명을 구매일로 바꾼다.\n",
    "purchase['구매일'] = purchase['구매일자'].copy()\n",
    "purchase.head()"
   ]
  },
  {
   "cell_type": "markdown",
   "id": "7141515e",
   "metadata": {},
   "source": [
    "### 매장 영업 시간\n",
    "- 롯데 계열사의 영업 시간은 10시부터 20시까지이다."
   ]
  },
  {
   "cell_type": "code",
   "execution_count": 11,
   "id": "b3d0d215",
   "metadata": {},
   "outputs": [
    {
     "name": "stdout",
     "output_type": "stream",
     "text": [
      "데이터 크기: (101325, 10)\n"
     ]
    }
   ],
   "source": [
    "# [DC] 영업시간 외의 데이터는 삭제한다.\n",
    "purchase = purchase.query('10 <= 구매시간 <= 20').reset_index(drop=True)\n",
    "print('데이터 크기:', purchase.shape)"
   ]
  },
  {
   "cell_type": "code",
   "execution_count": 12,
   "id": "f29bc26b",
   "metadata": {
    "scrolled": true
   },
   "outputs": [
    {
     "data": {
      "image/png": "[encoded data removed]",
      "text/plain": [
       "<Figure size 432x288 with 1 Axes>"
      ]
     },
     "metadata": {
      "needs_background": "light"
     },
     "output_type": "display_data"
    }
   ],
   "source": [
    "purchase.구매시간.value_counts().sort_index().plot.bar(title=\"시간대별 구매건수\", color='firebrick', rot=0)\n",
    "plt.show()"
   ]
  },
  {
   "cell_type": "markdown",
   "id": "f6fa57b6",
   "metadata": {},
   "source": [
    "### `구매일자`"
   ]
  },
  {
   "cell_type": "code",
   "execution_count": 13,
   "id": "0bcc3c10",
   "metadata": {},
   "outputs": [
    {
     "data": {
      "text/html": [
       "<div>\n",
       "<style scoped>\n",
       "    .dataframe tbody tr th:only-of-type {\n",
       "        vertical-align: middle;\n",
       "    }\n",
       "\n",
       "    .dataframe tbody tr th {\n",
       "        vertical-align: top;\n",
       "    }\n",
       "\n",
       "    .dataframe thead th {\n",
       "        text-align: right;\n",
       "    }\n",
       "</style>\n",
       "<table border=\"1\" class=\"dataframe\">\n",
       "  <thead>\n",
       "    <tr style=\"text-align: right;\">\n",
       "      <th></th>\n",
       "      <th>ID</th>\n",
       "      <th>상품대분류명</th>\n",
       "      <th>상품중분류명</th>\n",
       "      <th>구매지역</th>\n",
       "      <th>구매일자</th>\n",
       "      <th>구매시간</th>\n",
       "      <th>구매수량</th>\n",
       "      <th>구매금액</th>\n",
       "      <th>취소여부</th>\n",
       "      <th>구매일</th>\n",
       "    </tr>\n",
       "  </thead>\n",
       "  <tbody>\n",
       "    <tr>\n",
       "      <th>80125</th>\n",
       "      <td>42091629</td>\n",
       "      <td>식품</td>\n",
       "      <td>농산물</td>\n",
       "      <td>부산 해운대구</td>\n",
       "      <td>2014-06-25 18:00:00</td>\n",
       "      <td>18</td>\n",
       "      <td>1</td>\n",
       "      <td>1000</td>\n",
       "      <td>0</td>\n",
       "      <td>20140625</td>\n",
       "    </tr>\n",
       "    <tr>\n",
       "      <th>58407</th>\n",
       "      <td>382524561</td>\n",
       "      <td>레포츠</td>\n",
       "      <td>스포츠용품/의류</td>\n",
       "      <td>서울 강서구</td>\n",
       "      <td>2014-10-19 16:00:00</td>\n",
       "      <td>16</td>\n",
       "      <td>1</td>\n",
       "      <td>9000</td>\n",
       "      <td>0</td>\n",
       "      <td>20141019</td>\n",
       "    </tr>\n",
       "    <tr>\n",
       "      <th>87213</th>\n",
       "      <td>763676829</td>\n",
       "      <td>식품</td>\n",
       "      <td>농산물</td>\n",
       "      <td>서울 노원구</td>\n",
       "      <td>2014-01-19 18:00:00</td>\n",
       "      <td>18</td>\n",
       "      <td>2</td>\n",
       "      <td>7000</td>\n",
       "      <td>0</td>\n",
       "      <td>20140119</td>\n",
       "    </tr>\n",
       "    <tr>\n",
       "      <th>13958</th>\n",
       "      <td>876943706</td>\n",
       "      <td>식품</td>\n",
       "      <td>가공식품</td>\n",
       "      <td>서울 관악구</td>\n",
       "      <td>2014-09-14 12:00:00</td>\n",
       "      <td>12</td>\n",
       "      <td>3</td>\n",
       "      <td>6000</td>\n",
       "      <td>0</td>\n",
       "      <td>20140914</td>\n",
       "    </tr>\n",
       "    <tr>\n",
       "      <th>2404</th>\n",
       "      <td>200724538</td>\n",
       "      <td>식품</td>\n",
       "      <td>음료</td>\n",
       "      <td>경기 안양시</td>\n",
       "      <td>2014-11-28 11:00:00</td>\n",
       "      <td>11</td>\n",
       "      <td>1</td>\n",
       "      <td>5000</td>\n",
       "      <td>0</td>\n",
       "      <td>20141128</td>\n",
       "    </tr>\n",
       "  </tbody>\n",
       "</table>\n",
       "</div>"
      ],
      "text/plain": [
       "              ID 상품대분류명    상품중분류명     구매지역                구매일자  구매시간  구매수량  \\\n",
       "80125   42091629     식품       농산물  부산 해운대구 2014-06-25 18:00:00    18     1   \n",
       "58407  382524561    레포츠  스포츠용품/의류   서울 강서구 2014-10-19 16:00:00    16     1   \n",
       "87213  763676829     식품       농산물   서울 노원구 2014-01-19 18:00:00    18     2   \n",
       "13958  876943706     식품      가공식품   서울 관악구 2014-09-14 12:00:00    12     3   \n",
       "2404   200724538     식품        음료   경기 안양시 2014-11-28 11:00:00    11     1   \n",
       "\n",
       "       구매금액  취소여부       구매일  \n",
       "80125  1000     0  20140625  \n",
       "58407  9000     0  20141019  \n",
       "87213  7000     0  20140119  \n",
       "13958  6000     0  20140914  \n",
       "2404   5000     0  20141128  "
      ]
     },
     "execution_count": 13,
     "metadata": {},
     "output_type": "execute_result"
    }
   ],
   "source": [
    "# [DC] 구매일과 구매시간을 합친다.\n",
    "purchase['구매일자'] = pd.to_datetime(purchase['구매일'].astype(str)+purchase['구매시간'].astype(str).str.zfill(2), \n",
    "                                      format='%Y%m%d%H')\n",
    "purchase.sample(5)"
   ]
  },
  {
   "cell_type": "code",
   "execution_count": 14,
   "id": "0cb86231",
   "metadata": {},
   "outputs": [
    {
     "data": {
      "text/plain": [
       "1    53165\n",
       "2       16\n",
       "Name: 구매지역, dtype: int64"
      ]
     },
     "execution_count": 14,
     "metadata": {},
     "output_type": "execute_result"
    }
   ],
   "source": [
    "# 멤버십 데이터다보니 같은 날 다른 지역에서 구매한 데이터가 있다.\n",
    "purchase.groupby(['ID','구매일자'])['구매지역'].nunique().value_counts()"
   ]
  },
  {
   "cell_type": "code",
   "execution_count": 15,
   "id": "0ce3cc63",
   "metadata": {},
   "outputs": [
    {
     "data": {
      "image/png": "[encoded data removed]",
      "text/plain": [
       "<Figure size 432x288 with 1 Axes>"
      ]
     },
     "metadata": {
      "needs_background": "light"
     },
     "output_type": "display_data"
    }
   ],
   "source": [
    "# 금토일 이용률이 높으며 금은 오픈 시간에, 토와 일은 늦은 시간의 방문이 많다.\n",
    "ease = pd.pivot_table(purchase, index=purchase['구매일자'].dt.weekday, columns='구매시간', values='구매금액',aggfunc=np.size)\n",
    "ease.loc[7, :] = ease.sum()\n",
    "ease = ease.divide(ease.loc[7]).iloc[:-1]\n",
    "ease.index=list('월화수목금토일')\n",
    "\n",
    "ease.T.plot.bar(stacked=True, title=\"시간대별 요일 비율\", rot=0, color=sns.color_palette('Reds',7))\n",
    "plt.legend(bbox_to_anchor=(1.05,1))\n",
    "plt.show()"
   ]
  },
  {
   "cell_type": "markdown",
   "id": "9853b30d",
   "metadata": {},
   "source": [
    "### 구매금액\n",
    "`질문` 구매금액이 0원인 건 증정상품인가?\n",
    "- 같은 일자, 시간에 구매한 동일 상품군 제품과 같이 환불하는 것을 보아 증정상품으로 가정할 수 있다.\n",
    "- 모든 구매금액 0원 데이터에 대해 해당 거래 발생 일자, 시간에 같은 상품군을 구매했음을 확인했다. 증정상품으로 봐도 무방하다.\n",
    "- 증정상품 수령을 위해 본 상품 최대 구매개수, 가격과 증정 이벤트 이용횟수로 고객의 특성을 구분할 수 있을 것이다."
   ]
  },
  {
   "cell_type": "code",
   "execution_count": 16,
   "id": "03a50c6f",
   "metadata": {},
   "outputs": [
    {
     "data": {
      "image/png": "[encoded data removed]",
      "text/plain": [
       "<Figure size 432x288 with 1 Axes>"
      ]
     },
     "metadata": {
      "needs_background": "light"
     },
     "output_type": "display_data"
    }
   ],
   "source": [
    "# 구매금액 분포가 0을 중심으로 흩어져있다.\n",
    "sns.histplot(purchase['구매금액']/1000, bins=100, kde=True)\n",
    "plt.show()"
   ]
  },
  {
   "cell_type": "code",
   "execution_count": 17,
   "id": "c26408f0",
   "metadata": {},
   "outputs": [
    {
     "name": "stdout",
     "output_type": "stream",
     "text": [
      "구매금액이 0인 거래수: 197\n"
     ]
    }
   ],
   "source": [
    "# 구매금액이 0인 202개의 데이터가 있다.\n",
    "# purchase.query('구매금액==0')\n",
    "print('구매금액이 0인 거래수:', purchase.query('구매금액==0').shape[0])"
   ]
  },
  {
   "cell_type": "code",
   "execution_count": 18,
   "id": "7eb58d14",
   "metadata": {},
   "outputs": [
    {
     "data": {
      "text/html": [
       "<div>\n",
       "<style scoped>\n",
       "    .dataframe tbody tr th:only-of-type {\n",
       "        vertical-align: middle;\n",
       "    }\n",
       "\n",
       "    .dataframe tbody tr th {\n",
       "        vertical-align: top;\n",
       "    }\n",
       "\n",
       "    .dataframe thead th {\n",
       "        text-align: right;\n",
       "    }\n",
       "</style>\n",
       "<table border=\"1\" class=\"dataframe\">\n",
       "  <thead>\n",
       "    <tr style=\"text-align: right;\">\n",
       "      <th></th>\n",
       "      <th>ID</th>\n",
       "      <th>상품대분류명</th>\n",
       "      <th>상품중분류명</th>\n",
       "      <th>구매지역</th>\n",
       "      <th>구매일자</th>\n",
       "      <th>구매시간</th>\n",
       "      <th>구매수량</th>\n",
       "      <th>구매금액</th>\n",
       "      <th>취소여부</th>\n",
       "      <th>구매일</th>\n",
       "    </tr>\n",
       "  </thead>\n",
       "  <tbody>\n",
       "    <tr>\n",
       "      <th>60667</th>\n",
       "      <td>553914004</td>\n",
       "      <td>레포츠</td>\n",
       "      <td>스포츠용품/의류</td>\n",
       "      <td>부산 부산진구</td>\n",
       "      <td>2014-02-07 16:00:00</td>\n",
       "      <td>16</td>\n",
       "      <td>-5</td>\n",
       "      <td>0</td>\n",
       "      <td>1</td>\n",
       "      <td>20140207</td>\n",
       "    </tr>\n",
       "    <tr>\n",
       "      <th>46795</th>\n",
       "      <td>553914004</td>\n",
       "      <td>의류잡화</td>\n",
       "      <td>여성용의류-SPA</td>\n",
       "      <td>부산 부산진구</td>\n",
       "      <td>2014-05-23 15:00:00</td>\n",
       "      <td>15</td>\n",
       "      <td>-6</td>\n",
       "      <td>0</td>\n",
       "      <td>1</td>\n",
       "      <td>20140523</td>\n",
       "    </tr>\n",
       "    <tr>\n",
       "      <th>13743</th>\n",
       "      <td>841530519</td>\n",
       "      <td>레포츠</td>\n",
       "      <td>스포츠용품/의류</td>\n",
       "      <td>부산 부산진구</td>\n",
       "      <td>2014-06-03 12:00:00</td>\n",
       "      <td>12</td>\n",
       "      <td>-3</td>\n",
       "      <td>0</td>\n",
       "      <td>1</td>\n",
       "      <td>20140603</td>\n",
       "    </tr>\n",
       "    <tr>\n",
       "      <th>89527</th>\n",
       "      <td>966149513</td>\n",
       "      <td>식품</td>\n",
       "      <td>음료</td>\n",
       "      <td>서울 강남구</td>\n",
       "      <td>2014-07-09 18:00:00</td>\n",
       "      <td>18</td>\n",
       "      <td>-1</td>\n",
       "      <td>0</td>\n",
       "      <td>1</td>\n",
       "      <td>20140709</td>\n",
       "    </tr>\n",
       "    <tr>\n",
       "      <th>44021</th>\n",
       "      <td>351800310</td>\n",
       "      <td>레포츠</td>\n",
       "      <td>스포츠용품/의류</td>\n",
       "      <td>부산 부산진구</td>\n",
       "      <td>2014-08-10 15:00:00</td>\n",
       "      <td>15</td>\n",
       "      <td>-3</td>\n",
       "      <td>0</td>\n",
       "      <td>1</td>\n",
       "      <td>20140810</td>\n",
       "    </tr>\n",
       "    <tr>\n",
       "      <th>73346</th>\n",
       "      <td>492842607</td>\n",
       "      <td>의류잡화</td>\n",
       "      <td>구두</td>\n",
       "      <td>부산 부산진구</td>\n",
       "      <td>2014-09-14 17:00:00</td>\n",
       "      <td>17</td>\n",
       "      <td>-1</td>\n",
       "      <td>0</td>\n",
       "      <td>1</td>\n",
       "      <td>20140914</td>\n",
       "    </tr>\n",
       "  </tbody>\n",
       "</table>\n",
       "</div>"
      ],
      "text/plain": [
       "              ID 상품대분류명     상품중분류명     구매지역                구매일자  구매시간  구매수량  \\\n",
       "60667  553914004    레포츠   스포츠용품/의류  부산 부산진구 2014-02-07 16:00:00    16    -5   \n",
       "46795  553914004   의류잡화  여성용의류-SPA  부산 부산진구 2014-05-23 15:00:00    15    -6   \n",
       "13743  841530519    레포츠   스포츠용품/의류  부산 부산진구 2014-06-03 12:00:00    12    -3   \n",
       "89527  966149513     식품         음료   서울 강남구 2014-07-09 18:00:00    18    -1   \n",
       "44021  351800310    레포츠   스포츠용품/의류  부산 부산진구 2014-08-10 15:00:00    15    -3   \n",
       "73346  492842607   의류잡화         구두  부산 부산진구 2014-09-14 17:00:00    17    -1   \n",
       "\n",
       "       구매금액  취소여부       구매일  \n",
       "60667     0     1  20140207  \n",
       "46795     0     1  20140523  \n",
       "13743     0     1  20140603  \n",
       "89527     0     1  20140709  \n",
       "44021     0     1  20140810  \n",
       "73346     0     1  20140914  "
      ]
     },
     "execution_count": 18,
     "metadata": {},
     "output_type": "execute_result"
    }
   ],
   "source": [
    "# 그 중 취소여부가 1인 6개 데이터가 있어 자세히 살펴 데이터의 발생을 추측해본다.\n",
    "# purchase.query('구매금액==0').취소여부.value_counts()\n",
    "purchase.query('구매금액==0 and 취소여부==1').sort_values('구매일자')"
   ]
  },
  {
   "cell_type": "code",
   "execution_count": 19,
   "id": "6000af19",
   "metadata": {
    "scrolled": true
   },
   "outputs": [
    {
     "data": {
      "text/html": [
       "<div>\n",
       "<style scoped>\n",
       "    .dataframe tbody tr th:only-of-type {\n",
       "        vertical-align: middle;\n",
       "    }\n",
       "\n",
       "    .dataframe tbody tr th {\n",
       "        vertical-align: top;\n",
       "    }\n",
       "\n",
       "    .dataframe thead th {\n",
       "        text-align: right;\n",
       "    }\n",
       "</style>\n",
       "<table border=\"1\" class=\"dataframe\">\n",
       "  <thead>\n",
       "    <tr style=\"text-align: right;\">\n",
       "      <th></th>\n",
       "      <th>ID</th>\n",
       "      <th>상품대분류명</th>\n",
       "      <th>상품중분류명</th>\n",
       "      <th>구매지역</th>\n",
       "      <th>구매일자</th>\n",
       "      <th>구매시간</th>\n",
       "      <th>구매수량</th>\n",
       "      <th>구매금액</th>\n",
       "      <th>취소여부</th>\n",
       "      <th>구매일</th>\n",
       "    </tr>\n",
       "  </thead>\n",
       "  <tbody>\n",
       "    <tr>\n",
       "      <th>73342</th>\n",
       "      <td>492842607</td>\n",
       "      <td>레포츠</td>\n",
       "      <td>스포츠용품/의류</td>\n",
       "      <td>부산 부산진구</td>\n",
       "      <td>2014-02-22 17:00:00</td>\n",
       "      <td>17</td>\n",
       "      <td>1</td>\n",
       "      <td>141000</td>\n",
       "      <td>0</td>\n",
       "      <td>20140222</td>\n",
       "    </tr>\n",
       "    <tr>\n",
       "      <th>59827</th>\n",
       "      <td>492842607</td>\n",
       "      <td>레포츠</td>\n",
       "      <td>스포츠용품/의류</td>\n",
       "      <td>부산 부산진구</td>\n",
       "      <td>2014-03-28 16:00:00</td>\n",
       "      <td>16</td>\n",
       "      <td>1</td>\n",
       "      <td>72000</td>\n",
       "      <td>0</td>\n",
       "      <td>20140328</td>\n",
       "    </tr>\n",
       "    <tr>\n",
       "      <th>93762</th>\n",
       "      <td>492842607</td>\n",
       "      <td>레포츠</td>\n",
       "      <td>스포츠용품/의류</td>\n",
       "      <td>부산 부산진구</td>\n",
       "      <td>2014-03-30 19:00:00</td>\n",
       "      <td>19</td>\n",
       "      <td>-1</td>\n",
       "      <td>-72000</td>\n",
       "      <td>1</td>\n",
       "      <td>20140330</td>\n",
       "    </tr>\n",
       "    <tr>\n",
       "      <th>59828</th>\n",
       "      <td>492842607</td>\n",
       "      <td>의류잡화</td>\n",
       "      <td>구두</td>\n",
       "      <td>부산 중구</td>\n",
       "      <td>2014-05-02 16:00:00</td>\n",
       "      <td>16</td>\n",
       "      <td>1</td>\n",
       "      <td>167000</td>\n",
       "      <td>0</td>\n",
       "      <td>20140502</td>\n",
       "    </tr>\n",
       "    <tr>\n",
       "      <th>10954</th>\n",
       "      <td>492842607</td>\n",
       "      <td>식품</td>\n",
       "      <td>가공식품</td>\n",
       "      <td>부산 중구</td>\n",
       "      <td>2014-05-03 12:00:00</td>\n",
       "      <td>12</td>\n",
       "      <td>1</td>\n",
       "      <td>46000</td>\n",
       "      <td>0</td>\n",
       "      <td>20140503</td>\n",
       "    </tr>\n",
       "    <tr>\n",
       "      <th>73354</th>\n",
       "      <td>492842607</td>\n",
       "      <td>의류잡화</td>\n",
       "      <td>여성용의류-고급의류</td>\n",
       "      <td>부산 부산진구</td>\n",
       "      <td>2014-07-21 17:00:00</td>\n",
       "      <td>17</td>\n",
       "      <td>9</td>\n",
       "      <td>80000</td>\n",
       "      <td>0</td>\n",
       "      <td>20140721</td>\n",
       "    </tr>\n",
       "    <tr>\n",
       "      <th>32539</th>\n",
       "      <td>492842607</td>\n",
       "      <td>레포츠</td>\n",
       "      <td>스포츠용품/의류</td>\n",
       "      <td>부산 중구</td>\n",
       "      <td>2014-08-25 14:00:00</td>\n",
       "      <td>14</td>\n",
       "      <td>1</td>\n",
       "      <td>9000</td>\n",
       "      <td>0</td>\n",
       "      <td>20140825</td>\n",
       "    </tr>\n",
       "    <tr>\n",
       "      <th>32540</th>\n",
       "      <td>492842607</td>\n",
       "      <td>레포츠</td>\n",
       "      <td>스포츠용품/의류</td>\n",
       "      <td>부산 중구</td>\n",
       "      <td>2014-08-25 14:00:00</td>\n",
       "      <td>14</td>\n",
       "      <td>1</td>\n",
       "      <td>18000</td>\n",
       "      <td>0</td>\n",
       "      <td>20140825</td>\n",
       "    </tr>\n",
       "    <tr>\n",
       "      <th>32541</th>\n",
       "      <td>492842607</td>\n",
       "      <td>레포츠</td>\n",
       "      <td>스포츠용품/의류</td>\n",
       "      <td>부산 중구</td>\n",
       "      <td>2014-08-25 14:00:00</td>\n",
       "      <td>14</td>\n",
       "      <td>1</td>\n",
       "      <td>48000</td>\n",
       "      <td>0</td>\n",
       "      <td>20140825</td>\n",
       "    </tr>\n",
       "    <tr>\n",
       "      <th>46014</th>\n",
       "      <td>492842607</td>\n",
       "      <td>레포츠</td>\n",
       "      <td>스포츠용품/의류</td>\n",
       "      <td>부산 중구</td>\n",
       "      <td>2014-08-25 15:00:00</td>\n",
       "      <td>15</td>\n",
       "      <td>1</td>\n",
       "      <td>106000</td>\n",
       "      <td>0</td>\n",
       "      <td>20140825</td>\n",
       "    </tr>\n",
       "  </tbody>\n",
       "</table>\n",
       "</div>"
      ],
      "text/plain": [
       "              ID 상품대분류명      상품중분류명     구매지역                구매일자  구매시간  구매수량  \\\n",
       "73342  492842607    레포츠    스포츠용품/의류  부산 부산진구 2014-02-22 17:00:00    17     1   \n",
       "59827  492842607    레포츠    스포츠용품/의류  부산 부산진구 2014-03-28 16:00:00    16     1   \n",
       "93762  492842607    레포츠    스포츠용품/의류  부산 부산진구 2014-03-30 19:00:00    19    -1   \n",
       "59828  492842607   의류잡화          구두    부산 중구 2014-05-02 16:00:00    16     1   \n",
       "10954  492842607     식품        가공식품    부산 중구 2014-05-03 12:00:00    12     1   \n",
       "73354  492842607   의류잡화  여성용의류-고급의류  부산 부산진구 2014-07-21 17:00:00    17     9   \n",
       "32539  492842607    레포츠    스포츠용품/의류    부산 중구 2014-08-25 14:00:00    14     1   \n",
       "32540  492842607    레포츠    스포츠용품/의류    부산 중구 2014-08-25 14:00:00    14     1   \n",
       "32541  492842607    레포츠    스포츠용품/의류    부산 중구 2014-08-25 14:00:00    14     1   \n",
       "46014  492842607    레포츠    스포츠용품/의류    부산 중구 2014-08-25 15:00:00    15     1   \n",
       "\n",
       "         구매금액  취소여부       구매일  \n",
       "73342  141000     0  20140222  \n",
       "59827   72000     0  20140328  \n",
       "93762  -72000     1  20140330  \n",
       "59828  167000     0  20140502  \n",
       "10954   46000     0  20140503  \n",
       "73354   80000     0  20140721  \n",
       "32539    9000     0  20140825  \n",
       "32540   18000     0  20140825  \n",
       "32541   48000     0  20140825  \n",
       "46014  106000     0  20140825  "
      ]
     },
     "execution_count": 19,
     "metadata": {},
     "output_type": "execute_result"
    }
   ],
   "source": [
    "# 9개 의류잡화(여성용의류-SPA)를 8000원, 1개의 의류잡화(여성용의류-SPA)를 9000원에 구매한 때 추가로 6개 0원에 구매함.\n",
    "# 같은 시간대 구매한 10개의 의류잡화(여성용의류-SPA) 환불 시 6개도 같이 환불함\n",
    "purchase.query('ID==553914004 and 구매일자 <= 20140523').sort_values(by=['구매일자','구매시간','취소여부'])\n",
    "# 49개의 레포츠(스포츠용품/의류)를 44000원에 구매할 때 추가로 5개 0원에 구매함. 49개 환불 시 5개도 같이 환불함\n",
    "purchase.query('ID==553914004 and 구매일자 <= 20140207').sort_values(by=['구매일자','구매시간','취소여부'])\n",
    "\n",
    "# 97개 레포츠(스포츠용품/의류)를 86000원에 구매할 때 추가로 3개 0원에 구매함. 97개 환불 시 3개도 같이 환불함\n",
    "purchase.query('ID==841530519 and 구매일자 <= 20140603').sort_values(by=['구매일자','구매시간','취소여부'])\n",
    "\n",
    "# 같은 식품군 10개를 구매한 때 추가로 1개 0원에 구매함. 같은 시간대 구매한 7개 환불 시 1개도 같이 환불함\n",
    "purchase.query('ID==966149513 and 구매일자 <= 20140709').sort_values(by=['구매일자','구매시간','취소여부'])\n",
    "\n",
    "# 97개 레포츠(스포츠용품/의류)를 86000원에 구매할 때 추가로 3개 0원에 구매함. 97개 환불 시 3개도 같이 환불함\n",
    "purchase.query('ID==351800310 and 구매일자 <= 20140810').sort_values(by=['구매일자','구매시간','취소여부'])\n",
    "\n",
    "# 1개 의류잡화(구두)를 89000원, 1개의 의류잡화(구두)를 9000원에 구매한 때 추가로 1개 0원에 구매함.\n",
    "# 같은 시간대 구매한 2개의 의류잡화(구두) 환불 시 1개도 같이 환불함\n",
    "purchase.query('ID==492842607 and 구매일자 <= 20140914').sort_values(by=['구매일자','구매시간','취소여부'])"
   ]
  },
  {
   "cell_type": "code",
   "execution_count": 20,
   "id": "3b514471",
   "metadata": {
    "scrolled": true
   },
   "outputs": [
    {
     "name": "stdout",
     "output_type": "stream",
     "text": [
      "202개 모두 증정상품으로 볼 수 있다.\n"
     ]
    }
   ],
   "source": [
    "for _, ID, RDATE, P in purchase.query('구매금액 == 0')[['ID','구매일자', '상품대분류명']].itertuples():\n",
    "    # 본 상품 추출하기\n",
    "    if purchase.query('ID == @ID and 구매일자 == @RDATE and 상품대분류명 == @P').shape[0] <= 0:\n",
    "        print(f'증정상품 아님: {ID}, {RDATE}')\n",
    "else:\n",
    "    print('202개 모두 증정상품으로 볼 수 있다.')"
   ]
  },
  {
   "cell_type": "code",
   "execution_count": 21,
   "id": "acdf1c18",
   "metadata": {
    "scrolled": true
   },
   "outputs": [],
   "source": [
    "# [DC] 증정상품이란 binary column을 생성한다.\n",
    "purchase['증정상품'] = purchase['구매금액'].apply(lambda x: 1 if x==0 else 0)"
   ]
  },
  {
   "cell_type": "markdown",
   "id": "6cb345b0",
   "metadata": {},
   "source": [
    "## Save data"
   ]
  },
  {
   "cell_type": "code",
   "execution_count": 22,
   "id": "c75cc26e",
   "metadata": {},
   "outputs": [],
   "source": [
    "purchase.to_csv('../data/DC_구매내역정보.csv', index=False, encoding='cp949')"
   ]
  },
  {
   "cell_type": "code",
   "execution_count": null,
   "id": "e83624fd",
   "metadata": {},
   "outputs": [],
   "source": []
  }
 ],
 "metadata": {
  "kernelspec": {
   "display_name": "Python 3 (ipykernel)",
   "language": "python",
   "name": "python3"
  },
  "language_info": {
   "codemirror_mode": {
    "name": "ipython",
    "version": 3
   },
   "file_extension": ".py",
   "mimetype": "text/x-python",
   "name": "python",
   "nbconvert_exporter": "python",
   "pygments_lexer": "ipython3",
   "version": "3.9.12"
  }
 },
 "nbformat": 4,
 "nbformat_minor": 5
}
