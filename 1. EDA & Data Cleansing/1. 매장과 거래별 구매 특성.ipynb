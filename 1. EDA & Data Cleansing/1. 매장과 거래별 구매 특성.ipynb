{
 "cells": [
  {
   "cell_type": "markdown",
   "id": "6d5e609a",
   "metadata": {},
   "source": [
    "## Import"
   ]
  },
  {
   "cell_type": "code",
   "execution_count": 1,
   "id": "0244c9da",
   "metadata": {},
   "outputs": [],
   "source": [
    "import numpy as np\n",
    "import pandas as pd\n",
    "import matplotlib.pyplot as plt\n",
    "import seaborn as sns\n",
    "plt.rc('font', family='Malgun Gothic')\n",
    "plt.rc('axes', unicode_minus=False)"
   ]
  },
  {
   "cell_type": "markdown",
   "id": "207597f4",
   "metadata": {},
   "source": [
    "## Read Data"
   ]
  },
  {
   "cell_type": "code",
   "execution_count": 2,
   "id": "0b5db11c",
   "metadata": {},
   "outputs": [
    {
     "name": "stdout",
     "output_type": "stream",
     "text": [
      "데이터 크기: (101325, 9)\n"
     ]
    }
   ],
   "source": [
    "# 구매 데이터 읽기\n",
    "purchase = pd.read_csv('../data/DC_구매내역정보.csv', parse_dates=['구매일자'], encoding='cp949')\n",
    "print('데이터 크기:', purchase.shape)"
   ]
  },
  {
   "cell_type": "code",
   "execution_count": 3,
   "id": "777ee25a",
   "metadata": {},
   "outputs": [
    {
     "data": {
      "text/html": [
       "<div>\n",
       "<style scoped>\n",
       "    .dataframe tbody tr th:only-of-type {\n",
       "        vertical-align: middle;\n",
       "    }\n",
       "\n",
       "    .dataframe tbody tr th {\n",
       "        vertical-align: top;\n",
       "    }\n",
       "\n",
       "    .dataframe thead th {\n",
       "        text-align: right;\n",
       "    }\n",
       "</style>\n",
       "<table border=\"1\" class=\"dataframe\">\n",
       "  <thead>\n",
       "    <tr style=\"text-align: right;\">\n",
       "      <th></th>\n",
       "      <th>ID</th>\n",
       "      <th>상품대분류명</th>\n",
       "      <th>상품중분류명</th>\n",
       "      <th>구매지역</th>\n",
       "      <th>구매일자</th>\n",
       "      <th>구매시간</th>\n",
       "      <th>구매수량</th>\n",
       "      <th>구매금액</th>\n",
       "      <th>취소여부</th>\n",
       "    </tr>\n",
       "  </thead>\n",
       "  <tbody>\n",
       "    <tr>\n",
       "      <th>73064</th>\n",
       "      <td>480846548</td>\n",
       "      <td>식품</td>\n",
       "      <td>음료</td>\n",
       "      <td>경기 안양시</td>\n",
       "      <td>2014-03-21 17:00:00</td>\n",
       "      <td>17</td>\n",
       "      <td>9</td>\n",
       "      <td>80000</td>\n",
       "      <td>0</td>\n",
       "    </tr>\n",
       "    <tr>\n",
       "      <th>101248</th>\n",
       "      <td>974948810</td>\n",
       "      <td>의류잡화</td>\n",
       "      <td>여성용의류-SPA</td>\n",
       "      <td>서울 송파구</td>\n",
       "      <td>2014-07-12 20:00:00</td>\n",
       "      <td>20</td>\n",
       "      <td>1</td>\n",
       "      <td>27000</td>\n",
       "      <td>0</td>\n",
       "    </tr>\n",
       "    <tr>\n",
       "      <th>55081</th>\n",
       "      <td>142184860</td>\n",
       "      <td>레포츠</td>\n",
       "      <td>스포츠용품/의류</td>\n",
       "      <td>서울 송파구</td>\n",
       "      <td>2014-04-27 16:00:00</td>\n",
       "      <td>16</td>\n",
       "      <td>1</td>\n",
       "      <td>26000</td>\n",
       "      <td>0</td>\n",
       "    </tr>\n",
       "    <tr>\n",
       "      <th>61034</th>\n",
       "      <td>584431338</td>\n",
       "      <td>의류잡화</td>\n",
       "      <td>여성용의류-정장류</td>\n",
       "      <td>서울 동대문구</td>\n",
       "      <td>2014-03-08 16:00:00</td>\n",
       "      <td>16</td>\n",
       "      <td>1</td>\n",
       "      <td>282000</td>\n",
       "      <td>0</td>\n",
       "    </tr>\n",
       "    <tr>\n",
       "      <th>90387</th>\n",
       "      <td>51761252</td>\n",
       "      <td>식품</td>\n",
       "      <td>가공식품</td>\n",
       "      <td>경기 고양시</td>\n",
       "      <td>2014-08-30 19:00:00</td>\n",
       "      <td>19</td>\n",
       "      <td>1</td>\n",
       "      <td>6000</td>\n",
       "      <td>0</td>\n",
       "    </tr>\n",
       "  </tbody>\n",
       "</table>\n",
       "</div>"
      ],
      "text/plain": [
       "               ID 상품대분류명     상품중분류명     구매지역                구매일자  구매시간  구매수량  \\\n",
       "73064   480846548     식품         음료   경기 안양시 2014-03-21 17:00:00    17     9   \n",
       "101248  974948810   의류잡화  여성용의류-SPA   서울 송파구 2014-07-12 20:00:00    20     1   \n",
       "55081   142184860    레포츠   스포츠용품/의류   서울 송파구 2014-04-27 16:00:00    16     1   \n",
       "61034   584431338   의류잡화  여성용의류-정장류  서울 동대문구 2014-03-08 16:00:00    16     1   \n",
       "90387    51761252     식품       가공식품   경기 고양시 2014-08-30 19:00:00    19     1   \n",
       "\n",
       "          구매금액  취소여부  \n",
       "73064    80000     0  \n",
       "101248   27000     0  \n",
       "55081    26000     0  \n",
       "61034   282000     0  \n",
       "90387     6000     0  "
      ]
     },
     "execution_count": 3,
     "metadata": {},
     "output_type": "execute_result"
    }
   ],
   "source": [
    "purchase.sample(5)"
   ]
  },
  {
   "cell_type": "markdown",
   "id": "146f702b",
   "metadata": {},
   "source": [
    "## 매장 유형 파악\n",
    "`질문` 구매 지역마다 판매하는 상품대분류명을 보면 가전제품&생활잡화, 두 상품군 외 다른 상품군까지로 나뉘어지는데 매장 유형이 다른 걸까?\n",
    "- 롯데 계열사 데이터로 자료조사를 해보았을 때 가전제품&생활잡화만 판매하는 곳은 `롯데 하이마트`, 다른 곳은 `롯데백화점`임을 알아내었다.<br>\n",
    "  [하이마트 지점 안내] https://company.himart.co.kr/store/search"
   ]
  },
  {
   "cell_type": "code",
   "execution_count": 4,
   "id": "2d3439d2",
   "metadata": {},
   "outputs": [
    {
     "data": {
      "text/plain": [
       "구매지역\n",
       "경기 고양시     [생활잡화, 식품, 의류잡화, 가전제품, 레포츠, 가구, 명품]\n",
       "경기 광명시     [의류잡화, 레포츠, 식품, 가전제품, 명품, 가구, 생활잡화]\n",
       "경기 광주시                                  [가전제품]\n",
       "경기 구리시     [의류잡화, 생활잡화, 식품, 레포츠, 가전제품, 가구, 명품]\n",
       "경기 군포시                                  [가전제품]\n",
       "                          ...                 \n",
       "서울 영등포구    [의류잡화, 가전제품, 식품, 레포츠, 생활잡화, 가구, 명품]\n",
       "서울 용산구                            [가전제품, 생활잡화]\n",
       "서울 은평구                            [가전제품, 생활잡화]\n",
       "서울 중구      [레포츠, 의류잡화, 식품, 명품, 가전제품, 생활잡화, 가구]\n",
       "서울 중랑구                                  [가전제품]\n",
       "Name: 상품대분류명, Length: 65, dtype: object"
      ]
     },
     "execution_count": 4,
     "metadata": {},
     "output_type": "execute_result"
    }
   ],
   "source": [
    "purchase.groupby('구매지역')['상품대분류명'].unique()"
   ]
  },
  {
   "cell_type": "code",
   "execution_count": 5,
   "id": "26b0a1bb",
   "metadata": {},
   "outputs": [
    {
     "data": {
      "text/plain": [
       "구매지역\n",
       "서울 강남구     [가전제품, 식품, 의류잡화, 명품, 생활잡화, 레포츠, 가구]\n",
       "서울 강동구                            [가전제품, 생활잡화]\n",
       "서울 강북구     [가전제품, 의류잡화, 식품, 레포츠, 생활잡화, 명품, 가구]\n",
       "서울 강서구         [레포츠, 가전제품, 식품, 의류잡화, 생활잡화, 가구]\n",
       "서울 관악구     [레포츠, 생활잡화, 식품, 가구, 가전제품, 의류잡화, 명품]\n",
       "서울 광진구         [생활잡화, 의류잡화, 식품, 가전제품, 레포츠, 명품]\n",
       "서울 구로구                            [가전제품, 생활잡화]\n",
       "서울 금천구                                  [가전제품]\n",
       "서울 노원구     [식품, 생활잡화, 의류잡화, 가전제품, 레포츠, 가구, 명품]\n",
       "서울 도봉구                            [가전제품, 생활잡화]\n",
       "서울 동대문구    [의류잡화, 가전제품, 식품, 레포츠, 생활잡화, 가구, 명품]\n",
       "서울 동작구                            [가전제품, 생활잡화]\n",
       "서울 마포구                            [가전제품, 생활잡화]\n",
       "서울 서대문구                                 [가전제품]\n",
       "서울 서초구                                  [가전제품]\n",
       "서울 성동구                                  [가전제품]\n",
       "서울 성북구                                  [가전제품]\n",
       "서울 송파구     [생활잡화, 의류잡화, 식품, 가전제품, 가구, 레포츠, 명품]\n",
       "서울 양천구                            [가전제품, 생활잡화]\n",
       "서울 영등포구    [의류잡화, 가전제품, 식품, 레포츠, 생활잡화, 가구, 명품]\n",
       "서울 용산구                            [가전제품, 생활잡화]\n",
       "서울 은평구                            [가전제품, 생활잡화]\n",
       "서울 중구      [레포츠, 의류잡화, 식품, 명품, 가전제품, 생활잡화, 가구]\n",
       "서울 중랑구                                  [가전제품]\n",
       "Name: 상품대분류명, dtype: object"
      ]
     },
     "execution_count": 5,
     "metadata": {},
     "output_type": "execute_result"
    }
   ],
   "source": [
    "# 하이마트 지점 안내와 구글맵(상봉점 존재, 서대문구X) 상으론 서울의 23개 구에 존재한다.\n",
    "purchase.loc[purchase.구매지역.str.contains('서울')].groupby('구매지역')['상품대분류명'].unique()"
   ]
  },
  {
   "cell_type": "markdown",
   "id": "a7ddfcec",
   "metadata": {},
   "source": [
    "`질문` 백화점에서도 가전잡화, 생활잡화를 구매할 수 있는데 어떻게 매장 유형 Label을 생성하는 게 좋을까?\n",
    "- 거래내역의 대부분이 백화점에서 이루어졌다고 볼 수 있다. \n",
    "- 거래가 많이 이루어진 백화점에서, 매장이 많은 하이마트에서 할 법한 전략을 제안하기 위해선 보수적이게 Label을 생성하는 게 좋다.\n",
    "- `거래`별로 묶고 가전제품, 생활잡화 외의 상품이 판매되었으면 백화점으로, 아니면 하이마트로 판단한다."
   ]
  },
  {
   "cell_type": "code",
   "execution_count": 6,
   "id": "2d3613a1",
   "metadata": {},
   "outputs": [
    {
     "data": {
      "image/png": "[encoded data removed]",
      "text/plain": [
       "<Figure size 432x432 with 1 Axes>"
      ]
     },
     "metadata": {},
     "output_type": "display_data"
    }
   ],
   "source": [
    "plt.figure(figsize=(6,6))\n",
    "purchase.상품대분류명.value_counts().plot.pie(title=\"상품대분류명별 판매건수\", colors=sns.color_palette(\"Reds\",7), autopct='%1.1f%%')\n",
    "plt.ylabel('')\n",
    "plt.show()"
   ]
  },
  {
   "attachments": {
    "image.png": {
     "image/png": "[encoded data removed]"
    }
   },
   "cell_type": "markdown",
   "id": "358f21c6",
   "metadata": {},
   "source": [
    "`질문` 거래는 어떻게 정의해야 할까?\n",
    "- 백화점에서 구매활동은 매장별로 이루어져 동일한 백화점을 이용한 경우에도 구매시간이 다르게 나온다.\n",
    "![image.png](attachment:image.png)\n",
    "- 한 거래로, 고객의구매여정이라 판단할 수 있는 시간간격은<br>\n",
    "  https://brunch.co.kr/@logibridge/376?utm_source=oneoneone와 구매시간간격 분포에 따라 `6시간`으로 한다."
   ]
  },
  {
   "cell_type": "code",
   "execution_count": 7,
   "id": "6c283483",
   "metadata": {},
   "outputs": [
    {
     "data": {
      "text/plain": [
       "15051    100000.0\n",
       "39001       578.0\n",
       "1302        308.0\n",
       "26143       291.0\n",
       "67041         3.0\n",
       "Name: 구매일자, dtype: float64"
      ]
     },
     "execution_count": 7,
     "metadata": {},
     "output_type": "execute_result"
    }
   ],
   "source": [
    "# 고객의 구매건 당 구매시간간격\n",
    "# 고객별 최초의 거래의시간간격값은 NaN으로 표현된다. 발생할 수 없는 100000 로 채운다.\n",
    "ease = purchase.sort_values(by=['ID', '구매지역', '구매일자'])\\\n",
    "       .groupby(['ID','구매지역'])['구매일자'].diff().astype('timedelta64[h]').fillna(100000)\n",
    "ease.head()"
   ]
  },
  {
   "cell_type": "code",
   "execution_count": 8,
   "id": "ef9a5426",
   "metadata": {},
   "outputs": [
    {
     "data": {
      "image/png": "[encoded data removed]",
      "text/plain": [
       "<Figure size 432x288 with 1 Axes>"
      ]
     },
     "metadata": {
      "needs_background": "light"
     },
     "output_type": "display_data"
    }
   ],
   "source": [
    "# 롯데백화점, 하이마트 모두 10시부터 20시까지 운영하기에 한 거래의 구매시간간격은 10 이하여야 한다.\n",
    "# 분포를 보고 6시간까지를 한 거래로 판단한다.\n",
    "sns.histplot(ease[ease <= 10], bins=20, color='firebrick')\n",
    "plt.xticks(range(11))\n",
    "plt.xlabel('구매시간간격')\n",
    "plt.show()"
   ]
  },
  {
   "cell_type": "code",
   "execution_count": 9,
   "id": "939021f6",
   "metadata": {},
   "outputs": [],
   "source": [
    "# 거래별 ID를 생성한다.\n",
    "tranid = []\n",
    "\n",
    "i = 0\n",
    "for t in ease:\n",
    "    if t > 7 or t == 100000:\n",
    "        i += 1\n",
    "    tranid.append(i)\n",
    "\n",
    "# 40858개 거래로 구분했다.\n",
    "tranid = pd.Series(tranid, index=ease.index, name='거래ID')\n",
    "purchase = pd.concat([purchase, tranid], axis=1)"
   ]
  },
  {
   "cell_type": "code",
   "execution_count": 10,
   "id": "18d6d3ba",
   "metadata": {},
   "outputs": [],
   "source": [
    "# 거래당 상품대분류명 구성에 따라 백화점과 하이마트로 구분한다.\n",
    "ease = purchase.groupby('거래ID')['상품대분류명'].unique().apply(lambda x: len(set(x)-{'가전제품','생활잡화'}))\\\n",
    "       .apply(lambda x: '백화점' if x != 0 else '하이마트').rename('매장ID')\n",
    "purchase = purchase.merge(ease.reset_index(), on='거래ID')"
   ]
  },
  {
   "cell_type": "markdown",
   "id": "568e59d2",
   "metadata": {},
   "source": [
    "## 매장별 구매 특성\n",
    "- 대부분의 거래는 백화점에서 일어났으며 백화점은 구매가 자주 일어나고 가격대가 높은 의류잡화를 적극 판매하거나<br>\n",
    "  파레토 법칙에 따라 소수의 대주주가 관심있는 가구, 명품의 상품 진열에 신경써야 한다.\n",
    "- 하이마트는 가전제품을 사려할 때 방문하며 전자제품으로 가격대가 높다."
   ]
  },
  {
   "cell_type": "code",
   "execution_count": 11,
   "id": "17fd8517",
   "metadata": {},
   "outputs": [
    {
     "data": {
      "text/html": [
       "<div>\n",
       "<style scoped>\n",
       "    .dataframe tbody tr th:only-of-type {\n",
       "        vertical-align: middle;\n",
       "    }\n",
       "\n",
       "    .dataframe tbody tr th {\n",
       "        vertical-align: top;\n",
       "    }\n",
       "\n",
       "    .dataframe thead th {\n",
       "        text-align: right;\n",
       "    }\n",
       "</style>\n",
       "<table border=\"1\" class=\"dataframe\">\n",
       "  <thead>\n",
       "    <tr style=\"text-align: right;\">\n",
       "      <th>매장ID</th>\n",
       "      <th>백화점</th>\n",
       "      <th>하이마트</th>\n",
       "    </tr>\n",
       "    <tr>\n",
       "      <th>상품대분류명</th>\n",
       "      <th></th>\n",
       "      <th></th>\n",
       "    </tr>\n",
       "  </thead>\n",
       "  <tbody>\n",
       "    <tr>\n",
       "      <th>가구</th>\n",
       "      <td>584.0</td>\n",
       "      <td>NaN</td>\n",
       "    </tr>\n",
       "    <tr>\n",
       "      <th>가전제품</th>\n",
       "      <td>1530.0</td>\n",
       "      <td>5788.0</td>\n",
       "    </tr>\n",
       "    <tr>\n",
       "      <th>레포츠</th>\n",
       "      <td>4613.0</td>\n",
       "      <td>NaN</td>\n",
       "    </tr>\n",
       "    <tr>\n",
       "      <th>명품</th>\n",
       "      <td>824.0</td>\n",
       "      <td>NaN</td>\n",
       "    </tr>\n",
       "    <tr>\n",
       "      <th>생활잡화</th>\n",
       "      <td>3484.0</td>\n",
       "      <td>2560.0</td>\n",
       "    </tr>\n",
       "    <tr>\n",
       "      <th>식품</th>\n",
       "      <td>17797.0</td>\n",
       "      <td>NaN</td>\n",
       "    </tr>\n",
       "    <tr>\n",
       "      <th>의류잡화</th>\n",
       "      <td>16174.0</td>\n",
       "      <td>NaN</td>\n",
       "    </tr>\n",
       "  </tbody>\n",
       "</table>\n",
       "</div>"
      ],
      "text/plain": [
       "매장ID        백화점    하이마트\n",
       "상품대분류명                 \n",
       "가구        584.0     NaN\n",
       "가전제품     1530.0  5788.0\n",
       "레포츠      4613.0     NaN\n",
       "명품        824.0     NaN\n",
       "생활잡화     3484.0  2560.0\n",
       "식품      17797.0     NaN\n",
       "의류잡화    16174.0     NaN"
      ]
     },
     "execution_count": 11,
     "metadata": {},
     "output_type": "execute_result"
    }
   ],
   "source": [
    "pd.pivot_table(purchase, index='상품대분류명', columns='매장ID', values='거래ID', aggfunc=pd.Series.nunique)"
   ]
  },
  {
   "cell_type": "code",
   "execution_count": 12,
   "id": "8bb74c1a",
   "metadata": {
    "scrolled": false
   },
   "outputs": [
    {
     "data": {
      "text/html": [
       "<div>\n",
       "<style scoped>\n",
       "    .dataframe tbody tr th:only-of-type {\n",
       "        vertical-align: middle;\n",
       "    }\n",
       "\n",
       "    .dataframe tbody tr th {\n",
       "        vertical-align: top;\n",
       "    }\n",
       "\n",
       "    .dataframe thead th {\n",
       "        text-align: right;\n",
       "    }\n",
       "</style>\n",
       "<table border=\"1\" class=\"dataframe\">\n",
       "  <thead>\n",
       "    <tr style=\"text-align: right;\">\n",
       "      <th>매장ID</th>\n",
       "      <th>백화점</th>\n",
       "      <th>하이마트</th>\n",
       "    </tr>\n",
       "    <tr>\n",
       "      <th>상품대분류명</th>\n",
       "      <th></th>\n",
       "      <th></th>\n",
       "    </tr>\n",
       "  </thead>\n",
       "  <tbody>\n",
       "    <tr>\n",
       "      <th>가구</th>\n",
       "      <td>223067.031464</td>\n",
       "      <td>NaN</td>\n",
       "    </tr>\n",
       "    <tr>\n",
       "      <th>가전제품</th>\n",
       "      <td>66724.950100</td>\n",
       "      <td>287071.205572</td>\n",
       "    </tr>\n",
       "    <tr>\n",
       "      <th>레포츠</th>\n",
       "      <td>85329.251531</td>\n",
       "      <td>NaN</td>\n",
       "    </tr>\n",
       "    <tr>\n",
       "      <th>명품</th>\n",
       "      <td>369325.714286</td>\n",
       "      <td>NaN</td>\n",
       "    </tr>\n",
       "    <tr>\n",
       "      <th>생활잡화</th>\n",
       "      <td>54958.938831</td>\n",
       "      <td>73623.195380</td>\n",
       "    </tr>\n",
       "    <tr>\n",
       "      <th>식품</th>\n",
       "      <td>13921.049214</td>\n",
       "      <td>NaN</td>\n",
       "    </tr>\n",
       "    <tr>\n",
       "      <th>의류잡화</th>\n",
       "      <td>84792.044814</td>\n",
       "      <td>NaN</td>\n",
       "    </tr>\n",
       "  </tbody>\n",
       "</table>\n",
       "</div>"
      ],
      "text/plain": [
       "매장ID              백화점           하이마트\n",
       "상품대분류명                              \n",
       "가구      223067.031464            NaN\n",
       "가전제품     66724.950100  287071.205572\n",
       "레포츠      85329.251531            NaN\n",
       "명품      369325.714286            NaN\n",
       "생활잡화     54958.938831   73623.195380\n",
       "식품       13921.049214            NaN\n",
       "의류잡화     84792.044814            NaN"
      ]
     },
     "execution_count": 12,
     "metadata": {},
     "output_type": "execute_result"
    }
   ],
   "source": [
    "pd.pivot_table(purchase, index='상품대분류명', columns='매장ID', values='구매금액', aggfunc=np.mean)"
   ]
  },
  {
   "cell_type": "markdown",
   "id": "4ef0fab9",
   "metadata": {},
   "source": [
    "## Save data"
   ]
  },
  {
   "cell_type": "code",
   "execution_count": 42,
   "id": "2f7ab74a",
   "metadata": {},
   "outputs": [],
   "source": [
    "purchase.to_csv('../data/DC_구매내역정보.csv', index=False, encoding='cp949')"
   ]
  },
  {
   "cell_type": "code",
   "execution_count": null,
   "id": "6ca61807",
   "metadata": {},
   "outputs": [],
   "source": []
  }
 ],
 "metadata": {
  "kernelspec": {
   "display_name": "Python 3 (ipykernel)",
   "language": "python",
   "name": "python3"
  },
  "language_info": {
   "codemirror_mode": {
    "name": "ipython",
    "version": 3
   },
   "file_extension": ".py",
   "mimetype": "text/x-python",
   "name": "python",
   "nbconvert_exporter": "python",
   "pygments_lexer": "ipython3",
   "version": "3.9.12"
  }
 },
 "nbformat": 4,
 "nbformat_minor": 5
}
