{
 "cells": [
  {
   "cell_type": "markdown",
   "id": "6d5e609a",
   "metadata": {},
   "source": [
    "## Import"
   ]
  },
  {
   "cell_type": "code",
   "execution_count": 1,
   "id": "0244c9da",
   "metadata": {},
   "outputs": [],
   "source": [
    "import numpy as np\n",
    "import pandas as pd\n",
    "import matplotlib.pyplot as plt\n",
    "import seaborn as sns\n",
    "plt.rc('font', family='Malgun Gothic')\n",
    "plt.rc('axes', unicode_minus=False)\n",
    "import warnings ; warnings.filterwarnings('ignore')"
   ]
  },
  {
   "cell_type": "markdown",
   "id": "207597f4",
   "metadata": {},
   "source": [
    "## Read Data"
   ]
  },
  {
   "cell_type": "code",
   "execution_count": 2,
   "id": "0b5db11c",
   "metadata": {},
   "outputs": [
    {
     "name": "stdout",
     "output_type": "stream",
     "text": [
      "데이터 크기: (101325, 11)\n"
     ]
    }
   ],
   "source": [
    "# 구매 데이터 읽기\n",
    "purchase = pd.read_csv('../data/DC_구매내역정보.csv', parse_dates=['구매일자'], encoding='cp949')\n",
    "print('데이터 크기:', purchase.shape)"
   ]
  },
  {
   "cell_type": "code",
   "execution_count": 3,
   "id": "777ee25a",
   "metadata": {
    "scrolled": true
   },
   "outputs": [
    {
     "data": {
      "text/html": [
       "<div>\n",
       "<style scoped>\n",
       "    .dataframe tbody tr th:only-of-type {\n",
       "        vertical-align: middle;\n",
       "    }\n",
       "\n",
       "    .dataframe tbody tr th {\n",
       "        vertical-align: top;\n",
       "    }\n",
       "\n",
       "    .dataframe thead th {\n",
       "        text-align: right;\n",
       "    }\n",
       "</style>\n",
       "<table border=\"1\" class=\"dataframe\">\n",
       "  <thead>\n",
       "    <tr style=\"text-align: right;\">\n",
       "      <th></th>\n",
       "      <th>ID</th>\n",
       "      <th>상품대분류명</th>\n",
       "      <th>상품중분류명</th>\n",
       "      <th>구매지역</th>\n",
       "      <th>구매일자</th>\n",
       "      <th>구매수량</th>\n",
       "      <th>구매금액</th>\n",
       "      <th>취소여부</th>\n",
       "      <th>증정상품</th>\n",
       "      <th>거래ID</th>\n",
       "      <th>매장ID</th>\n",
       "    </tr>\n",
       "  </thead>\n",
       "  <tbody>\n",
       "    <tr>\n",
       "      <th>22980</th>\n",
       "      <td>230821716</td>\n",
       "      <td>의류잡화</td>\n",
       "      <td>남성용의류-정장류</td>\n",
       "      <td>경기 안산시</td>\n",
       "      <td>2014-02-28 19:00:00</td>\n",
       "      <td>1</td>\n",
       "      <td>87000</td>\n",
       "      <td>0</td>\n",
       "      <td>0</td>\n",
       "      <td>9364</td>\n",
       "      <td>백화점</td>\n",
       "    </tr>\n",
       "    <tr>\n",
       "      <th>81908</th>\n",
       "      <td>801605745</td>\n",
       "      <td>가전제품</td>\n",
       "      <td>주방가전</td>\n",
       "      <td>서울 영등포구</td>\n",
       "      <td>2014-03-21 17:00:00</td>\n",
       "      <td>1</td>\n",
       "      <td>36000</td>\n",
       "      <td>0</td>\n",
       "      <td>0</td>\n",
       "      <td>32679</td>\n",
       "      <td>하이마트</td>\n",
       "    </tr>\n",
       "    <tr>\n",
       "      <th>20817</th>\n",
       "      <td>211570334</td>\n",
       "      <td>의류잡화</td>\n",
       "      <td>여성용의류-SPA</td>\n",
       "      <td>서울 강북구</td>\n",
       "      <td>2014-06-20 15:00:00</td>\n",
       "      <td>1</td>\n",
       "      <td>12000</td>\n",
       "      <td>0</td>\n",
       "      <td>0</td>\n",
       "      <td>8532</td>\n",
       "      <td>백화점</td>\n",
       "    </tr>\n",
       "    <tr>\n",
       "      <th>5240</th>\n",
       "      <td>45775442</td>\n",
       "      <td>식품</td>\n",
       "      <td>음료</td>\n",
       "      <td>경기 부천시</td>\n",
       "      <td>2014-07-19 15:00:00</td>\n",
       "      <td>1</td>\n",
       "      <td>2000</td>\n",
       "      <td>0</td>\n",
       "      <td>0</td>\n",
       "      <td>2098</td>\n",
       "      <td>백화점</td>\n",
       "    </tr>\n",
       "    <tr>\n",
       "      <th>19169</th>\n",
       "      <td>194628152</td>\n",
       "      <td>식품</td>\n",
       "      <td>농산물</td>\n",
       "      <td>서울 중구</td>\n",
       "      <td>2014-10-07 15:00:00</td>\n",
       "      <td>1</td>\n",
       "      <td>5000</td>\n",
       "      <td>0</td>\n",
       "      <td>0</td>\n",
       "      <td>7859</td>\n",
       "      <td>백화점</td>\n",
       "    </tr>\n",
       "  </tbody>\n",
       "</table>\n",
       "</div>"
      ],
      "text/plain": [
       "              ID 상품대분류명     상품중분류명     구매지역                구매일자  구매수량   구매금액  \\\n",
       "22980  230821716   의류잡화  남성용의류-정장류   경기 안산시 2014-02-28 19:00:00     1  87000   \n",
       "81908  801605745   가전제품       주방가전  서울 영등포구 2014-03-21 17:00:00     1  36000   \n",
       "20817  211570334   의류잡화  여성용의류-SPA   서울 강북구 2014-06-20 15:00:00     1  12000   \n",
       "5240    45775442     식품         음료   경기 부천시 2014-07-19 15:00:00     1   2000   \n",
       "19169  194628152     식품        농산물    서울 중구 2014-10-07 15:00:00     1   5000   \n",
       "\n",
       "       취소여부  증정상품   거래ID  매장ID  \n",
       "22980     0     0   9364   백화점  \n",
       "81908     0     0  32679  하이마트  \n",
       "20817     0     0   8532   백화점  \n",
       "5240      0     0   2098   백화점  \n",
       "19169     0     0   7859   백화점  "
      ]
     },
     "execution_count": 3,
     "metadata": {},
     "output_type": "execute_result"
    }
   ],
   "source": [
    "purchase.sample(5)"
   ]
  },
  {
   "cell_type": "markdown",
   "id": "1cec56ab",
   "metadata": {},
   "source": [
    "## 취소 여부\n",
    "`질문` 롯데 계열사의 반품 및 환불 기간은 7일로 되어있다. 그 기간 이상 걸린 데이터는 무엇일까? \n",
    "- 재방문 후 환불을 해야 하는 백화점과 달리<br>\n",
    "  기사가 방문해 수거하여 수거와 정상 확인 등으로 환불일자가 7일 이후로 된 것일까 추측해보았다."
   ]
  },
  {
   "cell_type": "code",
   "execution_count": 4,
   "id": "328940b9",
   "metadata": {},
   "outputs": [
    {
     "name": "stdout",
     "output_type": "stream",
     "text": [
      "환불 건수:  8345\n"
     ]
    }
   ],
   "source": [
    "refunds = purchase.query('취소여부==1')\n",
    "print('환불 건수: ', refunds.shape[0])"
   ]
  },
  {
   "cell_type": "code",
   "execution_count": 5,
   "id": "ce3358c2",
   "metadata": {
    "scrolled": false
   },
   "outputs": [],
   "source": [
    "bindexs, period = [], []\n",
    "\n",
    "for RINDEX, RID, RDATE, RPRODUCT, RCOUNT, RAMOUNT in refunds[['ID','구매일자','상품중분류명','구매수량','구매금액']].itertuples():\n",
    "    dates = purchase.query('ID == @RID and 구매일자 <= @RDATE and 상품중분류명 == @RPRODUCT\\\n",
    "                            and 구매수량 >= -1*@RCOUNT and 구매금액/구매수량 == @RAMOUNT/@RCOUNT')['구매일자']\\\n",
    "            .sort_values(ascending=False).reset_index()\n",
    "    if dates.shape[0] > 0:\n",
    "        for _, BINDEX, BDATE in dates.itertuples():\n",
    "            if BINDEX not in bindexs:\n",
    "                bindexs.append(BINDEX)\n",
    "                period.append((RDATE - BDATE).days)\n",
    "                break\n",
    "        # 구매데이터가 누락된 경우이면 np.nan을 저장한다.\n",
    "        else:\n",
    "            bindexs.append(np.nan)\n",
    "            period.append(np.nan)            \n",
    "    # 구매데이터가 누락된 경우이면 np.nan을 저장한다.\n",
    "    else:\n",
    "        bindexs.append(np.nan)\n",
    "        period.append(np.nan)"
   ]
  },
  {
   "cell_type": "code",
   "execution_count": 6,
   "id": "7aa26a0d",
   "metadata": {},
   "outputs": [
    {
     "data": {
      "text/html": [
       "<div>\n",
       "<style scoped>\n",
       "    .dataframe tbody tr th:only-of-type {\n",
       "        vertical-align: middle;\n",
       "    }\n",
       "\n",
       "    .dataframe tbody tr th {\n",
       "        vertical-align: top;\n",
       "    }\n",
       "\n",
       "    .dataframe thead th {\n",
       "        text-align: right;\n",
       "    }\n",
       "</style>\n",
       "<table border=\"1\" class=\"dataframe\">\n",
       "  <thead>\n",
       "    <tr style=\"text-align: right;\">\n",
       "      <th></th>\n",
       "      <th>환불index</th>\n",
       "      <th>구매index</th>\n",
       "      <th>환불기간</th>\n",
       "      <th>환불매장ID</th>\n",
       "      <th>구매매장ID</th>\n",
       "    </tr>\n",
       "  </thead>\n",
       "  <tbody>\n",
       "    <tr>\n",
       "      <th>0</th>\n",
       "      <td>8</td>\n",
       "      <td>7</td>\n",
       "      <td>3</td>\n",
       "      <td>백화점</td>\n",
       "      <td>백화점</td>\n",
       "    </tr>\n",
       "    <tr>\n",
       "      <th>1</th>\n",
       "      <td>10</td>\n",
       "      <td>12</td>\n",
       "      <td>0</td>\n",
       "      <td>하이마트</td>\n",
       "      <td>하이마트</td>\n",
       "    </tr>\n",
       "    <tr>\n",
       "      <th>2</th>\n",
       "      <td>11</td>\n",
       "      <td>9</td>\n",
       "      <td>1</td>\n",
       "      <td>하이마트</td>\n",
       "      <td>하이마트</td>\n",
       "    </tr>\n",
       "    <tr>\n",
       "      <th>3</th>\n",
       "      <td>16</td>\n",
       "      <td>15</td>\n",
       "      <td>0</td>\n",
       "      <td>하이마트</td>\n",
       "      <td>하이마트</td>\n",
       "    </tr>\n",
       "    <tr>\n",
       "      <th>4</th>\n",
       "      <td>17</td>\n",
       "      <td>14</td>\n",
       "      <td>0</td>\n",
       "      <td>하이마트</td>\n",
       "      <td>하이마트</td>\n",
       "    </tr>\n",
       "    <tr>\n",
       "      <th>...</th>\n",
       "      <td>...</td>\n",
       "      <td>...</td>\n",
       "      <td>...</td>\n",
       "      <td>...</td>\n",
       "      <td>...</td>\n",
       "    </tr>\n",
       "    <tr>\n",
       "      <th>8340</th>\n",
       "      <td>101299</td>\n",
       "      <td>101300</td>\n",
       "      <td>0</td>\n",
       "      <td>백화점</td>\n",
       "      <td>백화점</td>\n",
       "    </tr>\n",
       "    <tr>\n",
       "      <th>8341</th>\n",
       "      <td>101303</td>\n",
       "      <td>101304</td>\n",
       "      <td>0</td>\n",
       "      <td>백화점</td>\n",
       "      <td>백화점</td>\n",
       "    </tr>\n",
       "    <tr>\n",
       "      <th>8342</th>\n",
       "      <td>101309</td>\n",
       "      <td>NaN</td>\n",
       "      <td>NaN</td>\n",
       "      <td>백화점</td>\n",
       "      <td>NaN</td>\n",
       "    </tr>\n",
       "    <tr>\n",
       "      <th>8343</th>\n",
       "      <td>101310</td>\n",
       "      <td>101311</td>\n",
       "      <td>0</td>\n",
       "      <td>백화점</td>\n",
       "      <td>백화점</td>\n",
       "    </tr>\n",
       "    <tr>\n",
       "      <th>8344</th>\n",
       "      <td>101322</td>\n",
       "      <td>NaN</td>\n",
       "      <td>NaN</td>\n",
       "      <td>백화점</td>\n",
       "      <td>NaN</td>\n",
       "    </tr>\n",
       "  </tbody>\n",
       "</table>\n",
       "<p>8345 rows × 5 columns</p>\n",
       "</div>"
      ],
      "text/plain": [
       "     환불index 구매index 환불기간 환불매장ID 구매매장ID\n",
       "0          8       7    3    백화점    백화점\n",
       "1         10      12    0   하이마트   하이마트\n",
       "2         11       9    1   하이마트   하이마트\n",
       "3         16      15    0   하이마트   하이마트\n",
       "4         17      14    0   하이마트   하이마트\n",
       "...      ...     ...  ...    ...    ...\n",
       "8340  101299  101300    0    백화점    백화점\n",
       "8341  101303  101304    0    백화점    백화점\n",
       "8342  101309     NaN  NaN    백화점    NaN\n",
       "8343  101310  101311    0    백화점    백화점\n",
       "8344  101322     NaN  NaN    백화점    NaN\n",
       "\n",
       "[8345 rows x 5 columns]"
      ]
     },
     "execution_count": 6,
     "metadata": {},
     "output_type": "execute_result"
    }
   ],
   "source": [
    "# 구매데이터가 누락된 경우는 2014개이다.\n",
    "trans = pd.DataFrame([refunds.index.values, bindexs, period, refunds['매장ID']]).T\n",
    "trans.columns = ['환불index', '구매index', '환불기간', '환불매장ID']\n",
    "trans = trans.merge(purchase.loc[trans.구매index.dropna(),'매장ID'].reset_index().rename(columns={'index':'구매index','매장ID':'구매매장ID'}),\n",
    "                    on='구매index', how='left')\n",
    "trans"
   ]
  },
  {
   "cell_type": "code",
   "execution_count": 7,
   "id": "d575d732",
   "metadata": {
    "scrolled": true
   },
   "outputs": [
    {
     "data": {
      "text/html": [
       "<div>\n",
       "<style scoped>\n",
       "    .dataframe tbody tr th:only-of-type {\n",
       "        vertical-align: middle;\n",
       "    }\n",
       "\n",
       "    .dataframe tbody tr th {\n",
       "        vertical-align: top;\n",
       "    }\n",
       "\n",
       "    .dataframe thead th {\n",
       "        text-align: right;\n",
       "    }\n",
       "</style>\n",
       "<table border=\"1\" class=\"dataframe\">\n",
       "  <thead>\n",
       "    <tr style=\"text-align: right;\">\n",
       "      <th></th>\n",
       "      <th>환불index</th>\n",
       "      <th>구매index</th>\n",
       "      <th>환불기간</th>\n",
       "      <th>환불매장ID</th>\n",
       "      <th>구매매장ID</th>\n",
       "    </tr>\n",
       "  </thead>\n",
       "  <tbody>\n",
       "    <tr>\n",
       "      <th>0</th>\n",
       "      <td>8</td>\n",
       "      <td>7</td>\n",
       "      <td>3</td>\n",
       "      <td>백화점</td>\n",
       "      <td>백화점</td>\n",
       "    </tr>\n",
       "    <tr>\n",
       "      <th>1</th>\n",
       "      <td>10</td>\n",
       "      <td>12</td>\n",
       "      <td>0</td>\n",
       "      <td>하이마트</td>\n",
       "      <td>하이마트</td>\n",
       "    </tr>\n",
       "    <tr>\n",
       "      <th>2</th>\n",
       "      <td>11</td>\n",
       "      <td>9</td>\n",
       "      <td>1</td>\n",
       "      <td>하이마트</td>\n",
       "      <td>하이마트</td>\n",
       "    </tr>\n",
       "    <tr>\n",
       "      <th>3</th>\n",
       "      <td>16</td>\n",
       "      <td>15</td>\n",
       "      <td>0</td>\n",
       "      <td>하이마트</td>\n",
       "      <td>하이마트</td>\n",
       "    </tr>\n",
       "    <tr>\n",
       "      <th>4</th>\n",
       "      <td>17</td>\n",
       "      <td>14</td>\n",
       "      <td>0</td>\n",
       "      <td>하이마트</td>\n",
       "      <td>하이마트</td>\n",
       "    </tr>\n",
       "    <tr>\n",
       "      <th>...</th>\n",
       "      <td>...</td>\n",
       "      <td>...</td>\n",
       "      <td>...</td>\n",
       "      <td>...</td>\n",
       "      <td>...</td>\n",
       "    </tr>\n",
       "    <tr>\n",
       "      <th>8340</th>\n",
       "      <td>101299</td>\n",
       "      <td>101300</td>\n",
       "      <td>0</td>\n",
       "      <td>백화점</td>\n",
       "      <td>백화점</td>\n",
       "    </tr>\n",
       "    <tr>\n",
       "      <th>8341</th>\n",
       "      <td>101303</td>\n",
       "      <td>101304</td>\n",
       "      <td>0</td>\n",
       "      <td>백화점</td>\n",
       "      <td>백화점</td>\n",
       "    </tr>\n",
       "    <tr>\n",
       "      <th>8342</th>\n",
       "      <td>101309</td>\n",
       "      <td>NaN</td>\n",
       "      <td>NaN</td>\n",
       "      <td>백화점</td>\n",
       "      <td>NaN</td>\n",
       "    </tr>\n",
       "    <tr>\n",
       "      <th>8343</th>\n",
       "      <td>101310</td>\n",
       "      <td>101311</td>\n",
       "      <td>0</td>\n",
       "      <td>백화점</td>\n",
       "      <td>백화점</td>\n",
       "    </tr>\n",
       "    <tr>\n",
       "      <th>8344</th>\n",
       "      <td>101322</td>\n",
       "      <td>NaN</td>\n",
       "      <td>NaN</td>\n",
       "      <td>백화점</td>\n",
       "      <td>NaN</td>\n",
       "    </tr>\n",
       "  </tbody>\n",
       "</table>\n",
       "<p>8345 rows × 5 columns</p>\n",
       "</div>"
      ],
      "text/plain": [
       "     환불index 구매index 환불기간 환불매장ID 구매매장ID\n",
       "0          8       7    3    백화점    백화점\n",
       "1         10      12    0   하이마트   하이마트\n",
       "2         11       9    1   하이마트   하이마트\n",
       "3         16      15    0   하이마트   하이마트\n",
       "4         17      14    0   하이마트   하이마트\n",
       "...      ...     ...  ...    ...    ...\n",
       "8340  101299  101300    0    백화점    백화점\n",
       "8341  101303  101304    0    백화점    백화점\n",
       "8342  101309     NaN  NaN    백화점    NaN\n",
       "8343  101310  101311    0    백화점    백화점\n",
       "8344  101322     NaN  NaN    백화점    NaN\n",
       "\n",
       "[8345 rows x 5 columns]"
      ]
     },
     "execution_count": 7,
     "metadata": {},
     "output_type": "execute_result"
    }
   ],
   "source": [
    "# [DC] 환불매장과 구매매장ID가 다른 경우 중 한 쪽이 백화점이면 반드시 반대도 백화점이다. 이를 반영해 수정한다.\n",
    "# 추후 원본데이터(purchase)에도 반영해야 한다.\n",
    "trans['구매매장ID'] = trans[['환불매장ID','구매매장ID']].apply(lambda x: \"백화점\" if x[0]==\"백화점\" and x[1]==\"하이마트\" else x[1], axis=1)\n",
    "trans['환불매장ID'] = trans[['구매매장ID','환불매장ID']].apply(lambda x: \"백화점\" if x[0]==\"백화점\" and x[1]==\"하이마트\" else x[1], axis=1)\n",
    "trans"
   ]
  },
  {
   "cell_type": "code",
   "execution_count": 8,
   "id": "8d0a3dea",
   "metadata": {
    "scrolled": false
   },
   "outputs": [
    {
     "data": {
      "image/png": "[encoded data removed]",
      "text/plain": [
       "<Figure size 720x360 with 2 Axes>"
      ]
     },
     "metadata": {
      "needs_background": "light"
     },
     "output_type": "display_data"
    }
   ],
   "source": [
    "# 환불까지 7일 이상 걸리는 데이터가 백화점에서 많이 발생하며 환불상품군도 음료, 의류잡화이기에 sampling 오류라고 본다.\n",
    "fig, ax = plt.subplots(1, 2, figsize=(10,5))\n",
    "trans.query('구매매장ID==\"백화점\"')['환불기간'].plot.box(title=\"환불기간 분포\", color='firebrick',ax=ax[0])\n",
    "trans.query('구매매장ID==\"하이마트\"')['환불기간'].plot.box(title=\"환불기간 분포\", color='firebrick',ax=ax[1])\n",
    "plt.show()"
   ]
  },
  {
   "cell_type": "code",
   "execution_count": 9,
   "id": "24f1335b",
   "metadata": {
    "scrolled": true
   },
   "outputs": [
    {
     "name": "stdout",
     "output_type": "stream",
     "text": [
      "7일 이후 환불 건수: 559\n",
      "구매데이터 크기: 100207\n"
     ]
    }
   ],
   "source": [
    "# [DC] 환불기간이 7일을 넘는 데이터는 제거한다.\n",
    "print('7일 이후 환불 건수:', trans.query('환불기간 > 7').shape[0])\n",
    "\n",
    "purchase.drop(trans.query('환불기간 > 7').구매index.tolist() + trans.query('환불기간 > 7').환불index.tolist(), inplace=True)\n",
    "print('구매데이터 크기:', purchase.shape[0])"
   ]
  },
  {
   "cell_type": "code",
   "execution_count": 10,
   "id": "635013c9",
   "metadata": {},
   "outputs": [
    {
     "name": "stdout",
     "output_type": "stream",
     "text": [
      "환불정보 데이터 크기: 7786\n"
     ]
    },
    {
     "data": {
      "text/plain": [
       "환불index       0\n",
       "구매index    2015\n",
       "환불기간       2015\n",
       "환불매장ID        0\n",
       "구매매장ID     2015\n",
       "dtype: int64"
      ]
     },
     "metadata": {},
     "output_type": "display_data"
    }
   ],
   "source": [
    "# 환불, 구매 정보를 담고 있는 테이블에도 수정을 반영한다.\n",
    "trans = trans.drop(trans.query('환불기간 > 7').index)\n",
    "print('환불정보 데이터 크기:', trans.shape[0])\n",
    "display(trans.isna().sum())"
   ]
  },
  {
   "cell_type": "code",
   "execution_count": 11,
   "id": "c2b0d4bc",
   "metadata": {},
   "outputs": [
    {
     "name": "stdout",
     "output_type": "stream",
     "text": [
      "-------변경 전 매장별 거래건수-------\n"
     ]
    },
    {
     "data": {
      "text/plain": [
       "백화점     87778\n",
       "하이마트    12429\n",
       "Name: 매장ID, dtype: int64"
      ]
     },
     "metadata": {},
     "output_type": "display_data"
    },
    {
     "name": "stdout",
     "output_type": "stream",
     "text": [
      "-------변경 후 매장별 거래건수-------\n"
     ]
    },
    {
     "data": {
      "text/plain": [
       "백화점     87857\n",
       "하이마트    12350\n",
       "Name: 매장ID, dtype: int64"
      ]
     },
     "metadata": {},
     "output_type": "display_data"
    },
    {
     "data": {
      "text/plain": [
       "ID        0\n",
       "상품대분류명    0\n",
       "상품중분류명    0\n",
       "구매지역      0\n",
       "구매일자      0\n",
       "구매수량      0\n",
       "구매금액      0\n",
       "취소여부      0\n",
       "증정상품      0\n",
       "거래ID      0\n",
       "매장ID      0\n",
       "dtype: int64"
      ]
     },
     "metadata": {},
     "output_type": "display_data"
    }
   ],
   "source": [
    "# [DC] 원본데이터에도 매장ID 변경을 반영한다.\n",
    "print('-------변경 전 매장별 거래건수-------')\n",
    "display(purchase.매장ID.value_counts())\n",
    "\n",
    "ease = trans[['환불index','환불매장ID']].values.tolist() + trans[['구매index','구매매장ID']].dropna().values.tolist()\n",
    "ease += purchase.loc[set(purchase.index) - set(list(zip(*ease))[0]),'매장ID'].reset_index().values.tolist()\n",
    "purchase['매장ID'] = pd.DataFrame(ease).sort_values(by=0)[1].values\n",
    "print('-------변경 후 매장별 거래건수-------')\n",
    "display(purchase.매장ID.value_counts())\n",
    "display(purchase.isna().sum())"
   ]
  },
  {
   "cell_type": "code",
   "execution_count": 12,
   "id": "98e2ea38",
   "metadata": {},
   "outputs": [
    {
     "data": {
      "text/plain": [
       "ID        100207\n",
       "상품대분류명    100207\n",
       "상품중분류명    100207\n",
       "구매지역      100207\n",
       "구매일자      100207\n",
       "구매수량      100207\n",
       "구매금액      100207\n",
       "취소여부      100207\n",
       "증정상품      100207\n",
       "거래ID      100207\n",
       "매장ID      100207\n",
       "환불기간        5771\n",
       "구매거래ID      5771\n",
       "dtype: int64"
      ]
     },
     "metadata": {},
     "output_type": "display_data"
    }
   ],
   "source": [
    "# [DC] 구매거래ID, 환불기간을 추가한다.\n",
    "ease = trans.dropna()[['환불index','구매index','환불기간']]\n",
    "ease['구매거래ID'] = purchase.loc[ease.구매index,'거래ID'].values\n",
    "purchase = purchase.reset_index().merge(ease[['환불index','환불기간','구매거래ID']], left_on='index', right_on='환불index', how='left')\n",
    "purchase.index = purchase['index'].values\n",
    "purchase.drop(['index','환불index'], axis=1, inplace=True)\n",
    "\n",
    "# 환불건수 7786개 중 누락데이터인 2015개 외의 데이터 정보를 추가했다.\n",
    "display(purchase.notna().sum())"
   ]
  },
  {
   "cell_type": "markdown",
   "id": "668095f9",
   "metadata": {},
   "source": [
    "`질문` 2014개의 구매데이터 누락 데이터는 2013년 말에 구매한 상품을 2014년에 환불한 경우일까?\n",
    "- 해당 건수를 알아본 결과 예상대로 1월에 구매데이터가 누락된 환불건수가 많았다.\n",
    "- 1월 외에도 구매 데이터가 누락된 건수는 `1814건`, 금액은 `3억 7천만원` 정도이다.\n",
    "- 전부 제거하면 매출이 상승할 것이며 환불을 감안한 것까지가 월별 성과이다.<br>\n",
    "  반대로 제거하지 않을 경우 자연적으론 발생할 수 없는 환불만 한 고객이 생겨난다.\n",
    "- 현 데이터론 실제론 환불된 데이터도 가려낼 수 없기에 극히 일부인 누락데이터를 모두 `제거`한다."
   ]
  },
  {
   "cell_type": "code",
   "execution_count": 13,
   "id": "d62e0096",
   "metadata": {},
   "outputs": [
    {
     "data": {
      "image/png": "[encoded data removed]",
      "text/plain": [
       "<Figure size 432x288 with 1 Axes>"
      ]
     },
     "metadata": {
      "needs_background": "light"
     },
     "output_type": "display_data"
    }
   ],
   "source": [
    "ease = purchase[purchase['환불기간'].isna() & purchase['취소여부']==1]\n",
    "ease['구매일자'].dt.month.value_counts().sort_index().plot.bar(title=\"구매데이터 누락 건수\", rot=0, color='lightgray')\n",
    "plt.show()"
   ]
  },
  {
   "cell_type": "code",
   "execution_count": 14,
   "id": "342b54e3",
   "metadata": {
    "scrolled": false
   },
   "outputs": [
    {
     "name": "stdout",
     "output_type": "stream",
     "text": [
      "1월 외 누락데이터 건수: 1814\n",
      "1월 외 누락데이터 금액: 375722000\n"
     ]
    }
   ],
   "source": [
    "print('1월 외 누락데이터 건수:', ease.query('구매일자 >= \"2014-02-01\"').shape[0])\n",
    "print('1월 외 누락데이터 금액:', ease.query('구매일자 >= \"2014-02-01\"')['구매금액'].sum()*-1)"
   ]
  },
  {
   "cell_type": "code",
   "execution_count": 15,
   "id": "f007e51d",
   "metadata": {
    "scrolled": false
   },
   "outputs": [
    {
     "name": "stdout",
     "output_type": "stream",
     "text": [
      "1월 외 누락데이터 상대도수: 0.01810252776752123\n",
      "1월 외 누락데이터 금액비율: 0.04858738227107948\n"
     ]
    }
   ],
   "source": [
    "print('1월 외 누락데이터 상대도수:', ease.query('구매일자 >= \"2014-02-01\"').shape[0]/purchase.shape[0])\n",
    "print('1월 외 누락데이터 금액비율:', ease.query('구매일자 >= \"2014-02-01\"')['구매금액'].sum()*-1/purchase.구매금액.sum())"
   ]
  },
  {
   "cell_type": "markdown",
   "id": "4ef0fab9",
   "metadata": {},
   "source": [
    "## Save data"
   ]
  },
  {
   "cell_type": "code",
   "execution_count": 16,
   "id": "2f7ab74a",
   "metadata": {},
   "outputs": [],
   "source": [
    "purchase.to_csv('../data/DC_구매내역정보.csv', index=False, encoding='cp949')"
   ]
  },
  {
   "cell_type": "code",
   "execution_count": null,
   "id": "01bdb853",
   "metadata": {},
   "outputs": [],
   "source": []
  }
 ],
 "metadata": {
  "kernelspec": {
   "display_name": "Python 3 (ipykernel)",
   "language": "python",
   "name": "python3"
  },
  "language_info": {
   "codemirror_mode": {
    "name": "ipython",
    "version": 3
   },
   "file_extension": ".py",
   "mimetype": "text/x-python",
   "name": "python",
   "nbconvert_exporter": "python",
   "pygments_lexer": "ipython3",
   "version": "3.9.12"
  }
 },
 "nbformat": 4,
 "nbformat_minor": 5
}
