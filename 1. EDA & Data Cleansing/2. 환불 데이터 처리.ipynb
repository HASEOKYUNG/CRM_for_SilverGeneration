{
 "cells": [
  {
   "cell_type": "markdown",
   "id": "6d5e609a",
   "metadata": {},
   "source": [
    "## Import"
   ]
  },
  {
   "cell_type": "code",
   "execution_count": 1,
   "id": "0244c9da",
   "metadata": {},
   "outputs": [],
   "source": [
    "import numpy as np\n",
    "import pandas as pd\n",
    "import matplotlib.pyplot as plt\n",
    "import seaborn as sns\n",
    "plt.rc('font', family='Malgun Gothic')\n",
    "plt.rc('axes', unicode_minus=False)\n",
    "\n",
    "# import ignore ; "
   ]
  },
  {
   "cell_type": "markdown",
   "id": "207597f4",
   "metadata": {},
   "source": [
    "## Read Data"
   ]
  },
  {
   "cell_type": "code",
   "execution_count": 116,
   "id": "0b5db11c",
   "metadata": {},
   "outputs": [
    {
     "name": "stdout",
     "output_type": "stream",
     "text": [
      "데이터 크기: (101325, 12)\n"
     ]
    }
   ],
   "source": [
    "# 구매 데이터 읽기\n",
    "purchase = pd.read_csv('../data/DC_구매내역정보.csv', parse_dates=['구매일자'], encoding='cp949')\n",
    "print('데이터 크기:', purchase.shape)"
   ]
  },
  {
   "cell_type": "code",
   "execution_count": 3,
   "id": "777ee25a",
   "metadata": {
    "scrolled": true
   },
   "outputs": [
    {
     "data": {
      "text/html": [
       "<div>\n",
       "<style scoped>\n",
       "    .dataframe tbody tr th:only-of-type {\n",
       "        vertical-align: middle;\n",
       "    }\n",
       "\n",
       "    .dataframe tbody tr th {\n",
       "        vertical-align: top;\n",
       "    }\n",
       "\n",
       "    .dataframe thead th {\n",
       "        text-align: right;\n",
       "    }\n",
       "</style>\n",
       "<table border=\"1\" class=\"dataframe\">\n",
       "  <thead>\n",
       "    <tr style=\"text-align: right;\">\n",
       "      <th></th>\n",
       "      <th>ID</th>\n",
       "      <th>상품대분류명</th>\n",
       "      <th>상품중분류명</th>\n",
       "      <th>구매지역</th>\n",
       "      <th>구매일자</th>\n",
       "      <th>구매시간</th>\n",
       "      <th>구매수량</th>\n",
       "      <th>구매금액</th>\n",
       "      <th>취소여부</th>\n",
       "      <th>증정상품</th>\n",
       "      <th>거래ID</th>\n",
       "      <th>매장ID</th>\n",
       "    </tr>\n",
       "  </thead>\n",
       "  <tbody>\n",
       "    <tr>\n",
       "      <th>66933</th>\n",
       "      <td>543456305</td>\n",
       "      <td>식품</td>\n",
       "      <td>축산물</td>\n",
       "      <td>경기 안양시</td>\n",
       "      <td>2014-12-21 16:00:00</td>\n",
       "      <td>16</td>\n",
       "      <td>1</td>\n",
       "      <td>18000</td>\n",
       "      <td>0</td>\n",
       "      <td>0</td>\n",
       "      <td>21903</td>\n",
       "      <td>백화점</td>\n",
       "    </tr>\n",
       "    <tr>\n",
       "      <th>16170</th>\n",
       "      <td>634438222</td>\n",
       "      <td>가전제품</td>\n",
       "      <td>TV/AV</td>\n",
       "      <td>부산 사하구</td>\n",
       "      <td>2014-09-11 12:00:00</td>\n",
       "      <td>12</td>\n",
       "      <td>1</td>\n",
       "      <td>62000</td>\n",
       "      <td>0</td>\n",
       "      <td>0</td>\n",
       "      <td>25513</td>\n",
       "      <td>하이마트</td>\n",
       "    </tr>\n",
       "    <tr>\n",
       "      <th>79429</th>\n",
       "      <td>587867224</td>\n",
       "      <td>식품</td>\n",
       "      <td>가공식품</td>\n",
       "      <td>서울 노원구</td>\n",
       "      <td>2014-09-09 18:00:00</td>\n",
       "      <td>18</td>\n",
       "      <td>1</td>\n",
       "      <td>3000</td>\n",
       "      <td>0</td>\n",
       "      <td>0</td>\n",
       "      <td>23861</td>\n",
       "      <td>백화점</td>\n",
       "    </tr>\n",
       "    <tr>\n",
       "      <th>39666</th>\n",
       "      <td>518914145</td>\n",
       "      <td>식품</td>\n",
       "      <td>건강식품</td>\n",
       "      <td>경기 안양시</td>\n",
       "      <td>2014-09-07 14:00:00</td>\n",
       "      <td>14</td>\n",
       "      <td>1</td>\n",
       "      <td>64000</td>\n",
       "      <td>0</td>\n",
       "      <td>0</td>\n",
       "      <td>20972</td>\n",
       "      <td>백화점</td>\n",
       "    </tr>\n",
       "    <tr>\n",
       "      <th>59901</th>\n",
       "      <td>997144126</td>\n",
       "      <td>생활잡화</td>\n",
       "      <td>화장품</td>\n",
       "      <td>서울 송파구</td>\n",
       "      <td>2014-04-06 16:00:00</td>\n",
       "      <td>16</td>\n",
       "      <td>-1</td>\n",
       "      <td>-31000</td>\n",
       "      <td>1</td>\n",
       "      <td>0</td>\n",
       "      <td>40678</td>\n",
       "      <td>백화점</td>\n",
       "    </tr>\n",
       "  </tbody>\n",
       "</table>\n",
       "</div>"
      ],
      "text/plain": [
       "              ID 상품대분류명 상품중분류명    구매지역                구매일자  구매시간  구매수량   구매금액  \\\n",
       "66933  543456305     식품    축산물  경기 안양시 2014-12-21 16:00:00    16     1  18000   \n",
       "16170  634438222   가전제품  TV/AV  부산 사하구 2014-09-11 12:00:00    12     1  62000   \n",
       "79429  587867224     식품   가공식품  서울 노원구 2014-09-09 18:00:00    18     1   3000   \n",
       "39666  518914145     식품   건강식품  경기 안양시 2014-09-07 14:00:00    14     1  64000   \n",
       "59901  997144126   생활잡화    화장품  서울 송파구 2014-04-06 16:00:00    16    -1 -31000   \n",
       "\n",
       "       취소여부  증정상품   거래ID  매장ID  \n",
       "66933     0     0  21903   백화점  \n",
       "16170     0     0  25513  하이마트  \n",
       "79429     0     0  23861   백화점  \n",
       "39666     0     0  20972   백화점  \n",
       "59901     1     0  40678   백화점  "
      ]
     },
     "execution_count": 3,
     "metadata": {},
     "output_type": "execute_result"
    }
   ],
   "source": [
    "purchase.sample(5)"
   ]
  },
  {
   "cell_type": "markdown",
   "id": "1cec56ab",
   "metadata": {},
   "source": [
    "## 취소 여부\n",
    "`질문` 롯데 계열사의 반품 및 환불 기간은 7일로 되어있다. 그 기간 이상 걸린 데이터는 무엇일까? \n",
    "- 재방문 후 환불을 해야 하는 백화점과 달리<br>\n",
    "  기사가 방문해 수거하여 수거와 정상 확인 등으로 환불일자가 7일 이후로 된 것일까 추측해보았다."
   ]
  },
  {
   "cell_type": "code",
   "execution_count": 4,
   "id": "328940b9",
   "metadata": {},
   "outputs": [
    {
     "name": "stdout",
     "output_type": "stream",
     "text": [
      "환불 건수:  8345\n"
     ]
    }
   ],
   "source": [
    "refunds = purchase.query('취소여부==1')\n",
    "print('환불 건수: ', refunds.shape[0])"
   ]
  },
  {
   "cell_type": "code",
   "execution_count": 5,
   "id": "ce3358c2",
   "metadata": {
    "scrolled": false
   },
   "outputs": [],
   "source": [
    "bindexs, period = [], []\n",
    "\n",
    "for rindex, ID, DATE, PRODUCT, COUNT, AMOUNT in refunds[['ID','구매일자','상품중분류명','구매수량','구매금액']].itertuples():\n",
    "    dates = purchase.query('ID == @ID and 구매일자 <= @DATE and 상품중분류명 == @PRODUCT\\\n",
    "                            and 구매수량 >= -1*@COUNT and 구매금액/구매수량 == @AMOUNT/@COUNT')['구매일자']\\\n",
    "            .sort_values(ascending=False).reset_index()\n",
    "    if dates.shape[0] > 0:\n",
    "        for _, bindex, bday in dates.itertuples():\n",
    "            if bindex not in bindexs:\n",
    "                bindexs.append(bindex)\n",
    "                period.append((DATE - bday).days)\n",
    "                break\n",
    "    # 구매데이터가 누락된 경우이면 np.nan을 저장한다.\n",
    "    else:\n",
    "        bindexs.append(np.nan)\n",
    "        period.append(np.nan)"
   ]
  },
  {
   "cell_type": "code",
   "execution_count": 117,
   "id": "6fd57328",
   "metadata": {
    "scrolled": true
   },
   "outputs": [
    {
     "data": {
      "text/plain": [
       "환불        8345\n",
       "구매        6331\n",
       "기간        6331\n",
       "환불매장ID    8345\n",
       "구매매장ID    6331\n",
       "dtype: int64"
      ]
     },
     "metadata": {},
     "output_type": "display_data"
    }
   ],
   "source": [
    "# 구매데이터가 누락된 경우는 2014개이다.\n",
    "trans = pd.DataFrame([refunds.index.values, bindexs, period, refunds['매장ID']]).T\n",
    "trans.columns = ['환불', '구매', '기간', '환불매장ID']\n",
    "trans = trans.merge(purchase.loc[trans.구매.dropna(),'매장ID'].reset_index().rename(columns={'index':'구매','매장ID':'구매매장ID'}),\n",
    "                   on='구매', how='left')\n",
    "display(trans.notna().sum())"
   ]
  },
  {
   "cell_type": "code",
   "execution_count": 118,
   "id": "d575d732",
   "metadata": {
    "scrolled": true
   },
   "outputs": [
    {
     "data": {
      "text/plain": [
       "백화점     6278\n",
       "하이마트      53\n",
       "Name: 구매매장ID, dtype: int64"
      ]
     },
     "metadata": {},
     "output_type": "display_data"
    }
   ],
   "source": [
    "# 환불매장과 구매매장ID가 다른 경우 중 한 쪽이 백화점이면 반드시 반대도 백화점이다. 이를 반영해 수정한다.\n",
    "# 추후 원본데이터(purchase)에도 반영해야 한다.\n",
    "trans['구매매장ID'] = trans[['환불매장ID','구매매장ID']].apply(lambda x: \"백화점\" if x[0]==\"백화점\" and x[1]==\"하이마트\" else x[1], axis=1)\n",
    "trans['환불매장ID'] = trans[['구매매장ID','환불매장ID']].apply(lambda x: \"백화점\" if x[0]==\"백화점\" and x[1]==\"하이마트\" else x[1], axis=1)\n",
    "display(trans['구매매장ID'].value_counts())"
   ]
  },
  {
   "cell_type": "code",
   "execution_count": 57,
   "id": "8d0a3dea",
   "metadata": {
    "scrolled": false
   },
   "outputs": [
    {
     "data": {
      "image/png": "[encoded data removed]",
      "text/plain": [
       "<Figure size 720x360 with 2 Axes>"
      ]
     },
     "metadata": {
      "needs_background": "light"
     },
     "output_type": "display_data"
    }
   ],
   "source": [
    "# 환불까지 7일 이상 걸리는 데이터가 백화점에서 많이 발생하며 환불상품군도 음료, 의류잡화이기에 sampling 오류라고 본다.\n",
    "fig, ax = plt.subplots(1, 2, figsize=(10,5))\n",
    "trans.query('구매매장ID==\"백화점\"')['기간'].plot.box(title=\"환불기간 분포\", color='firebrick',ax=ax[0])\n",
    "trans.query('구매매장ID==\"하이마트\"')['기간'].plot.box(title=\"환불기간 분포\", color='firebrick',ax=ax[1])\n",
    "plt.show()"
   ]
  },
  {
   "cell_type": "code",
   "execution_count": 119,
   "id": "24f1335b",
   "metadata": {
    "scrolled": true
   },
   "outputs": [
    {
     "name": "stdout",
     "output_type": "stream",
     "text": [
      "7일 이후 환불 건수: 579\n",
      "구매데이터 크기: 100167\n"
     ]
    }
   ],
   "source": [
    "# [DC] 환불기간이 7일을 넘는 데이터는 제거한다.\n",
    "print('7일 이후 환불 건수:', trans.query('기간 > 7').shape[0])\n",
    "\n",
    "purchase.drop(trans.query('기간 > 7').구매.tolist() + trans.query('기간 > 7').환불.tolist(), inplace=True)\n",
    "print('구매데이터 크기:', purchase.shape[0])"
   ]
  },
  {
   "cell_type": "code",
   "execution_count": 120,
   "id": "635013c9",
   "metadata": {},
   "outputs": [
    {
     "name": "stdout",
     "output_type": "stream",
     "text": [
      "환불정보 데이터 크기: 7766\n"
     ]
    }
   ],
   "source": [
    "# 환불, 구매 정보를 담고 있는 테이블에도 수정을 반영한다.\n",
    "trans = trans.drop(trans.query('기간 > 7').index)\n",
    "print('환불정보 데이터 크기:', trans.shape[0])\n",
    "display(trans.isna().sum())"
   ]
  },
  {
   "cell_type": "code",
   "execution_count": null,
   "id": "c2b0d4bc",
   "metadata": {},
   "outputs": [],
   "source": [
    "# [DC] 원본데이터에도 매장ID 변경을 반영한다.\n",
    "print('-------변경 전 매장별 거래건수-------')\n",
    "display(purchase.매장ID.value_counts())\n",
    "\n",
    "shop = trans[['환불','환불매장ID']].values.tolist() + trans[['구매','구매매장ID']].dropna().values.tolist()\n",
    "shop += purchase.loc[set(purchase.index) - set(list(zip(*shop))[0]),'매장ID'].reset_index().values.tolist()\n",
    "purchase['매장ID'] = pd.DataFrame(shop).sort_values(by=0)[1].values\n",
    "print('-------변경 후 매장별 거래건수-------')\n",
    "display(purchase.매장ID.value_counts())"
   ]
  },
  {
   "cell_type": "code",
   "execution_count": 149,
   "id": "98e2ea38",
   "metadata": {},
   "outputs": [],
   "source": [
    "# [DC] 구매ID, 환불기간을 추가한다.\n",
    "ease = trans.dropna()[['환불','구매','기간']]\n",
    "ease['구매거래ID'] = purchase.loc[ease.구매,'거래ID'].values\n",
    "purchase = purchase.reset_index().merge(ease[['환불','기간','구매거래ID']], left_on='index', right_on='환불', how='left')\n",
    "purchase.index = purchase['index'].values\n",
    "purchase.drop(['index','환불'], axis=1, inplace=True)"
   ]
  },
  {
   "cell_type": "markdown",
   "id": "668095f9",
   "metadata": {},
   "source": [
    "`질문` 2014개의 구매데이터 누락 데이터는 2013년 말에 구매한 상품을 2014년에 환불한 경우일까?\n",
    "- 해당 건수를 알아본 결과 예상대로 1월에 구매데이터가 누락된 환불건수가 많았다.\n",
    "- 1월 외에도 구매 데이터가 누락된 건수는 `1838건`, 금액은 `3억 4천만원` 정도이다.\n",
    "- 전부 제거하면 매출이 급상승할 것이다. 월별 성과를 매출로 보면 환불도 포함해야 한다.\n",
    "- 제거하지 않을 경우 자연적으론 발생할 수 없는 환불만 한 고객이 생겨난다.\n",
    "- 반대로 누락데이터를 지우면 실제론 환불했으나 환불 안한 것처럼 나온다."
   ]
  },
  {
   "cell_type": "code",
   "execution_count": 176,
   "id": "85454d2b",
   "metadata": {},
   "outputs": [
    {
     "data": {
      "image/png": "[encoded data removed]",
      "text/plain": [
       "<Figure size 432x288 with 1 Axes>"
      ]
     },
     "metadata": {
      "needs_background": "light"
     },
     "output_type": "display_data"
    }
   ],
   "source": [
    "purchase.query('취소여부==1 and 기간.isna()')['구매일자'].dt.month.value_counts().sort_index()\\\n",
    ".plot.bar(title=\"구매데이터 누락 건수\", rot=0, color='lightgray')\n",
    "plt.show()"
   ]
  },
  {
   "cell_type": "code",
   "execution_count": 179,
   "id": "342b54e3",
   "metadata": {
    "scrolled": false
   },
   "outputs": [
    {
     "name": "stdout",
     "output_type": "stream",
     "text": [
      "1월 외 누락데이터 건수: 1838\n",
      "1월 외 누락데이터 금액(단위: 천원): 347155\n"
     ]
    }
   ],
   "source": [
    "print('1월 외 누락데이터 건수:', purchase.query('취소여부==1 and 기간.isna() and 구매일자 > \"2014-02-01\"').shape[0])\n",
    "print('1월 외 누락데이터 금액(단위: 천원):', \\\n",
    "      purchase.query('취소여부==1 and 기간.isna() and 구매일자 > \"2014-02-01\"')['구매금액'].sum()*-1//1000)"
   ]
  },
  {
   "cell_type": "code",
   "execution_count": 188,
   "id": "39e4b667",
   "metadata": {},
   "outputs": [
    {
     "data": {
      "text/plain": [
       "ID\n",
       "647610673   -46228000\n",
       "326615905    -2531000\n",
       "336202470    -1913000\n",
       "283656473    -1818000\n",
       "973380801     -994000\n",
       "501663896     -181000\n",
       "556672595     -153000\n",
       "859336555      -49000\n",
       "522549235      -12000\n",
       "459734645           0\n",
       "948777438        2000\n",
       "760598172        3000\n",
       "316180538        4000\n",
       "175105668        5000\n",
       "444120706        5000\n",
       "Name: 구매금액, dtype: int64"
      ]
     },
     "execution_count": 188,
     "metadata": {},
     "output_type": "execute_result"
    }
   ],
   "source": [
    "purchase.drop(purchase.query('취소여부==1 and 기간.isna() and 구매일자 <= \"2014-01-06\"').index)\\\n",
    ".groupby('ID')['구매금액'].sum().sort_values().iloc[:15]"
   ]
  },
  {
   "cell_type": "code",
   "execution_count": 191,
   "id": "44e66f19",
   "metadata": {},
   "outputs": [
    {
     "data": {
      "text/html": [
       "<div>\n",
       "<style scoped>\n",
       "    .dataframe tbody tr th:only-of-type {\n",
       "        vertical-align: middle;\n",
       "    }\n",
       "\n",
       "    .dataframe tbody tr th {\n",
       "        vertical-align: top;\n",
       "    }\n",
       "\n",
       "    .dataframe thead th {\n",
       "        text-align: right;\n",
       "    }\n",
       "</style>\n",
       "<table border=\"1\" class=\"dataframe\">\n",
       "  <thead>\n",
       "    <tr style=\"text-align: right;\">\n",
       "      <th></th>\n",
       "      <th>ID</th>\n",
       "      <th>상품대분류명</th>\n",
       "      <th>상품중분류명</th>\n",
       "      <th>구매지역</th>\n",
       "      <th>구매일자</th>\n",
       "      <th>구매시간</th>\n",
       "      <th>구매수량</th>\n",
       "      <th>구매금액</th>\n",
       "      <th>취소여부</th>\n",
       "      <th>증정상품</th>\n",
       "      <th>거래ID</th>\n",
       "      <th>매장ID</th>\n",
       "      <th>기간</th>\n",
       "      <th>구매_거래ID</th>\n",
       "    </tr>\n",
       "  </thead>\n",
       "  <tbody>\n",
       "    <tr>\n",
       "      <th>53397</th>\n",
       "      <td>522549235</td>\n",
       "      <td>의류잡화</td>\n",
       "      <td>여성용의류-정장류</td>\n",
       "      <td>서울 중구</td>\n",
       "      <td>2014-09-13 15:00:00</td>\n",
       "      <td>15</td>\n",
       "      <td>1</td>\n",
       "      <td>27000</td>\n",
       "      <td>0</td>\n",
       "      <td>0</td>\n",
       "      <td>21033</td>\n",
       "      <td>백화점</td>\n",
       "      <td>NaN</td>\n",
       "      <td>NaN</td>\n",
       "    </tr>\n",
       "    <tr>\n",
       "      <th>53398</th>\n",
       "      <td>522549235</td>\n",
       "      <td>의류잡화</td>\n",
       "      <td>여성용의류-정장류</td>\n",
       "      <td>서울 중구</td>\n",
       "      <td>2014-09-13 15:00:00</td>\n",
       "      <td>15</td>\n",
       "      <td>1</td>\n",
       "      <td>44000</td>\n",
       "      <td>0</td>\n",
       "      <td>0</td>\n",
       "      <td>21033</td>\n",
       "      <td>백화점</td>\n",
       "      <td>NaN</td>\n",
       "      <td>NaN</td>\n",
       "    </tr>\n",
       "    <tr>\n",
       "      <th>66643</th>\n",
       "      <td>522549235</td>\n",
       "      <td>의류잡화</td>\n",
       "      <td>여성용의류-SPA</td>\n",
       "      <td>서울 중구</td>\n",
       "      <td>2014-10-23 16:00:00</td>\n",
       "      <td>16</td>\n",
       "      <td>-1</td>\n",
       "      <td>-103000</td>\n",
       "      <td>1</td>\n",
       "      <td>0</td>\n",
       "      <td>21036</td>\n",
       "      <td>백화점</td>\n",
       "      <td>0</td>\n",
       "      <td>21671.0</td>\n",
       "    </tr>\n",
       "    <tr>\n",
       "      <th>66644</th>\n",
       "      <td>522549235</td>\n",
       "      <td>의류잡화</td>\n",
       "      <td>여성용의류-정장류</td>\n",
       "      <td>서울 중구</td>\n",
       "      <td>2014-09-14 16:00:00</td>\n",
       "      <td>16</td>\n",
       "      <td>-1</td>\n",
       "      <td>-27000</td>\n",
       "      <td>1</td>\n",
       "      <td>0</td>\n",
       "      <td>21034</td>\n",
       "      <td>백화점</td>\n",
       "      <td>NaN</td>\n",
       "      <td>NaN</td>\n",
       "    </tr>\n",
       "    <tr>\n",
       "      <th>66645</th>\n",
       "      <td>522549235</td>\n",
       "      <td>의류잡화</td>\n",
       "      <td>여성용의류-정장류</td>\n",
       "      <td>서울 중구</td>\n",
       "      <td>2014-09-14 16:00:00</td>\n",
       "      <td>16</td>\n",
       "      <td>1</td>\n",
       "      <td>27000</td>\n",
       "      <td>0</td>\n",
       "      <td>0</td>\n",
       "      <td>21034</td>\n",
       "      <td>백화점</td>\n",
       "      <td>NaN</td>\n",
       "      <td>NaN</td>\n",
       "    </tr>\n",
       "    <tr>\n",
       "      <th>66646</th>\n",
       "      <td>522549235</td>\n",
       "      <td>가전제품</td>\n",
       "      <td>주방가전</td>\n",
       "      <td>서울 중구</td>\n",
       "      <td>2014-09-14 17:00:00</td>\n",
       "      <td>17</td>\n",
       "      <td>1</td>\n",
       "      <td>28000</td>\n",
       "      <td>0</td>\n",
       "      <td>0</td>\n",
       "      <td>21034</td>\n",
       "      <td>백화점</td>\n",
       "      <td>NaN</td>\n",
       "      <td>NaN</td>\n",
       "    </tr>\n",
       "    <tr>\n",
       "      <th>66647</th>\n",
       "      <td>522549235</td>\n",
       "      <td>의류잡화</td>\n",
       "      <td>여성용의류-정장류</td>\n",
       "      <td>서울 중구</td>\n",
       "      <td>2014-09-14 17:00:00</td>\n",
       "      <td>17</td>\n",
       "      <td>-1</td>\n",
       "      <td>-43000</td>\n",
       "      <td>1</td>\n",
       "      <td>0</td>\n",
       "      <td>21034</td>\n",
       "      <td>백화점</td>\n",
       "      <td>0</td>\n",
       "      <td>21709.0</td>\n",
       "    </tr>\n",
       "    <tr>\n",
       "      <th>66648</th>\n",
       "      <td>522549235</td>\n",
       "      <td>의류잡화</td>\n",
       "      <td>여성용의류-정장류</td>\n",
       "      <td>서울 중구</td>\n",
       "      <td>2014-09-14 17:00:00</td>\n",
       "      <td>17</td>\n",
       "      <td>-1</td>\n",
       "      <td>-27000</td>\n",
       "      <td>1</td>\n",
       "      <td>0</td>\n",
       "      <td>21034</td>\n",
       "      <td>백화점</td>\n",
       "      <td>0</td>\n",
       "      <td>21681.0</td>\n",
       "    </tr>\n",
       "    <tr>\n",
       "      <th>66649</th>\n",
       "      <td>522549235</td>\n",
       "      <td>의류잡화</td>\n",
       "      <td>여성용의류-정장류</td>\n",
       "      <td>서울 중구</td>\n",
       "      <td>2014-10-26 16:00:00</td>\n",
       "      <td>16</td>\n",
       "      <td>-1</td>\n",
       "      <td>-52000</td>\n",
       "      <td>1</td>\n",
       "      <td>0</td>\n",
       "      <td>21037</td>\n",
       "      <td>백화점</td>\n",
       "      <td>0</td>\n",
       "      <td>21681.0</td>\n",
       "    </tr>\n",
       "    <tr>\n",
       "      <th>66650</th>\n",
       "      <td>522549235</td>\n",
       "      <td>의류잡화</td>\n",
       "      <td>여성용의류-정장류</td>\n",
       "      <td>서울 중구</td>\n",
       "      <td>2014-10-26 16:00:00</td>\n",
       "      <td>16</td>\n",
       "      <td>-1</td>\n",
       "      <td>-18000</td>\n",
       "      <td>1</td>\n",
       "      <td>0</td>\n",
       "      <td>21037</td>\n",
       "      <td>백화점</td>\n",
       "      <td>0</td>\n",
       "      <td>21681.0</td>\n",
       "    </tr>\n",
       "    <tr>\n",
       "      <th>66651</th>\n",
       "      <td>522549235</td>\n",
       "      <td>의류잡화</td>\n",
       "      <td>여성용의류-정장류</td>\n",
       "      <td>서울 중구</td>\n",
       "      <td>2014-10-26 16:00:00</td>\n",
       "      <td>16</td>\n",
       "      <td>1</td>\n",
       "      <td>18000</td>\n",
       "      <td>0</td>\n",
       "      <td>0</td>\n",
       "      <td>21037</td>\n",
       "      <td>백화점</td>\n",
       "      <td>NaN</td>\n",
       "      <td>NaN</td>\n",
       "    </tr>\n",
       "    <tr>\n",
       "      <th>66652</th>\n",
       "      <td>522549235</td>\n",
       "      <td>의류잡화</td>\n",
       "      <td>여성용의류-정장류</td>\n",
       "      <td>서울 중구</td>\n",
       "      <td>2014-10-26 16:00:00</td>\n",
       "      <td>16</td>\n",
       "      <td>1</td>\n",
       "      <td>53000</td>\n",
       "      <td>0</td>\n",
       "      <td>0</td>\n",
       "      <td>21037</td>\n",
       "      <td>백화점</td>\n",
       "      <td>NaN</td>\n",
       "      <td>NaN</td>\n",
       "    </tr>\n",
       "    <tr>\n",
       "      <th>66653</th>\n",
       "      <td>522549235</td>\n",
       "      <td>의류잡화</td>\n",
       "      <td>여성용의류-정장류</td>\n",
       "      <td>서울 중구</td>\n",
       "      <td>2014-10-26 16:00:00</td>\n",
       "      <td>16</td>\n",
       "      <td>1</td>\n",
       "      <td>61000</td>\n",
       "      <td>0</td>\n",
       "      <td>0</td>\n",
       "      <td>21037</td>\n",
       "      <td>백화점</td>\n",
       "      <td>NaN</td>\n",
       "      <td>NaN</td>\n",
       "    </tr>\n",
       "  </tbody>\n",
       "</table>\n",
       "</div>"
      ],
      "text/plain": [
       "              ID 상품대분류명     상품중분류명   구매지역                구매일자  구매시간  구매수량  \\\n",
       "53397  522549235   의류잡화  여성용의류-정장류  서울 중구 2014-09-13 15:00:00    15     1   \n",
       "53398  522549235   의류잡화  여성용의류-정장류  서울 중구 2014-09-13 15:00:00    15     1   \n",
       "66643  522549235   의류잡화  여성용의류-SPA  서울 중구 2014-10-23 16:00:00    16    -1   \n",
       "66644  522549235   의류잡화  여성용의류-정장류  서울 중구 2014-09-14 16:00:00    16    -1   \n",
       "66645  522549235   의류잡화  여성용의류-정장류  서울 중구 2014-09-14 16:00:00    16     1   \n",
       "66646  522549235   가전제품       주방가전  서울 중구 2014-09-14 17:00:00    17     1   \n",
       "66647  522549235   의류잡화  여성용의류-정장류  서울 중구 2014-09-14 17:00:00    17    -1   \n",
       "66648  522549235   의류잡화  여성용의류-정장류  서울 중구 2014-09-14 17:00:00    17    -1   \n",
       "66649  522549235   의류잡화  여성용의류-정장류  서울 중구 2014-10-26 16:00:00    16    -1   \n",
       "66650  522549235   의류잡화  여성용의류-정장류  서울 중구 2014-10-26 16:00:00    16    -1   \n",
       "66651  522549235   의류잡화  여성용의류-정장류  서울 중구 2014-10-26 16:00:00    16     1   \n",
       "66652  522549235   의류잡화  여성용의류-정장류  서울 중구 2014-10-26 16:00:00    16     1   \n",
       "66653  522549235   의류잡화  여성용의류-정장류  서울 중구 2014-10-26 16:00:00    16     1   \n",
       "\n",
       "         구매금액  취소여부  증정상품   거래ID 매장ID   기간  구매_거래ID  \n",
       "53397   27000     0     0  21033  백화점  NaN      NaN  \n",
       "53398   44000     0     0  21033  백화점  NaN      NaN  \n",
       "66643 -103000     1     0  21036  백화점    0  21671.0  \n",
       "66644  -27000     1     0  21034  백화점  NaN      NaN  \n",
       "66645   27000     0     0  21034  백화점  NaN      NaN  \n",
       "66646   28000     0     0  21034  백화점  NaN      NaN  \n",
       "66647  -43000     1     0  21034  백화점    0  21709.0  \n",
       "66648  -27000     1     0  21034  백화점    0  21681.0  \n",
       "66649  -52000     1     0  21037  백화점    0  21681.0  \n",
       "66650  -18000     1     0  21037  백화점    0  21681.0  \n",
       "66651   18000     0     0  21037  백화점  NaN      NaN  \n",
       "66652   53000     0     0  21037  백화점  NaN      NaN  \n",
       "66653   61000     0     0  21037  백화점  NaN      NaN  "
      ]
     },
     "execution_count": 191,
     "metadata": {},
     "output_type": "execute_result"
    }
   ],
   "source": [
    "purchase.query('ID==522549235')"
   ]
  },
  {
   "cell_type": "code",
   "execution_count": 184,
   "id": "771625a9",
   "metadata": {},
   "outputs": [
    {
     "data": {
      "text/plain": [
       "11"
      ]
     },
     "execution_count": 184,
     "metadata": {},
     "output_type": "execute_result"
    }
   ],
   "source": [
    "(purchase.groupby('ID')['구매금액'].sum().sort_values() <= 0).sum()"
   ]
  },
  {
   "cell_type": "code",
   "execution_count": 186,
   "id": "57aafa07",
   "metadata": {},
   "outputs": [
    {
     "data": {
      "text/plain": [
       "ID\n",
       "647610673   -46228000\n",
       "326615905    -2531000\n",
       "336202470    -1913000\n",
       "283656473    -1818000\n",
       "973380801     -994000\n",
       "36304587      -237000\n",
       "501663896     -181000\n",
       "556672595     -153000\n",
       "859336555      -49000\n",
       "522549235      -12000\n",
       "459734645           0\n",
       "948777438        2000\n",
       "760598172        3000\n",
       "316180538        4000\n",
       "175105668        5000\n",
       "Name: 구매금액, dtype: int64"
      ]
     },
     "execution_count": 186,
     "metadata": {},
     "output_type": "execute_result"
    }
   ],
   "source": [
    "purchase.groupby('ID')['구매금액'].sum().sort_values().iloc[:15]"
   ]
  },
  {
   "cell_type": "code",
   "execution_count": null,
   "id": "41fcb656",
   "metadata": {},
   "outputs": [],
   "source": []
  }
 ],
 "metadata": {
  "kernelspec": {
   "display_name": "Python 3 (ipykernel)",
   "language": "python",
   "name": "python3"
  },
  "language_info": {
   "codemirror_mode": {
    "name": "ipython",
    "version": 3
   },
   "file_extension": ".py",
   "mimetype": "text/x-python",
   "name": "python",
   "nbconvert_exporter": "python",
   "pygments_lexer": "ipython3",
   "version": "3.9.12"
  }
 },
 "nbformat": 4,
 "nbformat_minor": 5
}
