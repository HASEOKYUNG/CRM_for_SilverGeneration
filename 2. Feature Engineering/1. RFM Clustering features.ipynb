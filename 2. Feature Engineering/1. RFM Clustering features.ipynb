{
 "cells": [
  {
   "cell_type": "markdown",
   "id": "6d5e609a",
   "metadata": {},
   "source": [
    "## Import"
   ]
  },
  {
   "cell_type": "code",
   "execution_count": 1,
   "id": "0244c9da",
   "metadata": {},
   "outputs": [],
   "source": [
    "import numpy as np\n",
    "import pandas as pd\n",
    "import pickle\n",
    "from scipy.stats import boxcox\n",
    "import matplotlib.pyplot as plt\n",
    "import seaborn as sns\n",
    "plt.rc('font', family='Malgun Gothic')\n",
    "plt.rc('axes', unicode_minus=False)\n",
    "import warnings ; warnings.filterwarnings('ignore')"
   ]
  },
  {
   "cell_type": "markdown",
   "id": "207597f4",
   "metadata": {},
   "source": [
    "## Read Data"
   ]
  },
  {
   "cell_type": "code",
   "execution_count": 2,
   "id": "0b5db11c",
   "metadata": {},
   "outputs": [
    {
     "name": "stdout",
     "output_type": "stream",
     "text": [
      "데이터 크기: (98192, 13)\n"
     ]
    }
   ],
   "source": [
    "# 구매 데이터 읽기\n",
    "purchase = pd.read_csv('../data/DC_구매내역정보.csv', parse_dates=['구매일자'], encoding='cp949')\n",
    "print('데이터 크기:', purchase.shape)"
   ]
  },
  {
   "cell_type": "code",
   "execution_count": 3,
   "id": "dab34668",
   "metadata": {},
   "outputs": [
    {
     "data": {
      "text/html": [
       "<div>\n",
       "<style scoped>\n",
       "    .dataframe tbody tr th:only-of-type {\n",
       "        vertical-align: middle;\n",
       "    }\n",
       "\n",
       "    .dataframe tbody tr th {\n",
       "        vertical-align: top;\n",
       "    }\n",
       "\n",
       "    .dataframe thead th {\n",
       "        text-align: right;\n",
       "    }\n",
       "</style>\n",
       "<table border=\"1\" class=\"dataframe\">\n",
       "  <thead>\n",
       "    <tr style=\"text-align: right;\">\n",
       "      <th></th>\n",
       "      <th>ID</th>\n",
       "      <th>상품대분류명</th>\n",
       "      <th>상품중분류명</th>\n",
       "      <th>구매지역</th>\n",
       "      <th>구매일자</th>\n",
       "      <th>구매수량</th>\n",
       "      <th>구매금액</th>\n",
       "      <th>취소여부</th>\n",
       "      <th>증정상품</th>\n",
       "      <th>거래ID</th>\n",
       "      <th>매장ID</th>\n",
       "      <th>환불기간</th>\n",
       "      <th>구매거래ID</th>\n",
       "    </tr>\n",
       "  </thead>\n",
       "  <tbody>\n",
       "    <tr>\n",
       "      <th>86301</th>\n",
       "      <td>882284269</td>\n",
       "      <td>생활잡화</td>\n",
       "      <td>주방용품</td>\n",
       "      <td>서울 동대문구</td>\n",
       "      <td>2014-08-26 16:00:00</td>\n",
       "      <td>1</td>\n",
       "      <td>76000</td>\n",
       "      <td>0</td>\n",
       "      <td>0</td>\n",
       "      <td>35615</td>\n",
       "      <td>하이마트</td>\n",
       "      <td>NaN</td>\n",
       "      <td>NaN</td>\n",
       "    </tr>\n",
       "    <tr>\n",
       "      <th>85909</th>\n",
       "      <td>877256654</td>\n",
       "      <td>식품</td>\n",
       "      <td>음료</td>\n",
       "      <td>부산 부산진구</td>\n",
       "      <td>2014-05-08 16:00:00</td>\n",
       "      <td>1</td>\n",
       "      <td>3000</td>\n",
       "      <td>0</td>\n",
       "      <td>0</td>\n",
       "      <td>35440</td>\n",
       "      <td>백화점</td>\n",
       "      <td>NaN</td>\n",
       "      <td>NaN</td>\n",
       "    </tr>\n",
       "    <tr>\n",
       "      <th>65365</th>\n",
       "      <td>679339798</td>\n",
       "      <td>레포츠</td>\n",
       "      <td>스포츠용품/의류</td>\n",
       "      <td>부산 부산진구</td>\n",
       "      <td>2014-11-06 17:00:00</td>\n",
       "      <td>-162</td>\n",
       "      <td>-144000</td>\n",
       "      <td>1</td>\n",
       "      <td>0</td>\n",
       "      <td>27260</td>\n",
       "      <td>백화점</td>\n",
       "      <td>5.0</td>\n",
       "      <td>27259.0</td>\n",
       "    </tr>\n",
       "    <tr>\n",
       "      <th>49157</th>\n",
       "      <td>506047370</td>\n",
       "      <td>가전제품</td>\n",
       "      <td>생활가전</td>\n",
       "      <td>경기 안산시</td>\n",
       "      <td>2014-12-23 15:00:00</td>\n",
       "      <td>1</td>\n",
       "      <td>879000</td>\n",
       "      <td>0</td>\n",
       "      <td>0</td>\n",
       "      <td>20350</td>\n",
       "      <td>하이마트</td>\n",
       "      <td>NaN</td>\n",
       "      <td>NaN</td>\n",
       "    </tr>\n",
       "    <tr>\n",
       "      <th>17470</th>\n",
       "      <td>175723513</td>\n",
       "      <td>의류잡화</td>\n",
       "      <td>여성용의류-정장류</td>\n",
       "      <td>서울 중구</td>\n",
       "      <td>2014-05-23 16:00:00</td>\n",
       "      <td>1</td>\n",
       "      <td>882000</td>\n",
       "      <td>0</td>\n",
       "      <td>0</td>\n",
       "      <td>7319</td>\n",
       "      <td>백화점</td>\n",
       "      <td>NaN</td>\n",
       "      <td>NaN</td>\n",
       "    </tr>\n",
       "  </tbody>\n",
       "</table>\n",
       "</div>"
      ],
      "text/plain": [
       "              ID 상품대분류명     상품중분류명     구매지역                구매일자  구매수량    구매금액  \\\n",
       "86301  882284269   생활잡화       주방용품  서울 동대문구 2014-08-26 16:00:00     1   76000   \n",
       "85909  877256654     식품         음료  부산 부산진구 2014-05-08 16:00:00     1    3000   \n",
       "65365  679339798    레포츠   스포츠용품/의류  부산 부산진구 2014-11-06 17:00:00  -162 -144000   \n",
       "49157  506047370   가전제품       생활가전   경기 안산시 2014-12-23 15:00:00     1  879000   \n",
       "17470  175723513   의류잡화  여성용의류-정장류    서울 중구 2014-05-23 16:00:00     1  882000   \n",
       "\n",
       "       취소여부  증정상품   거래ID  매장ID  환불기간   구매거래ID  \n",
       "86301     0     0  35615  하이마트   NaN      NaN  \n",
       "85909     0     0  35440   백화점   NaN      NaN  \n",
       "65365     1     0  27260   백화점   5.0  27259.0  \n",
       "49157     0     0  20350  하이마트   NaN      NaN  \n",
       "17470     0     0   7319   백화점   NaN      NaN  "
      ]
     },
     "execution_count": 3,
     "metadata": {},
     "output_type": "execute_result"
    }
   ],
   "source": [
    "purchase.sample(5)"
   ]
  },
  {
   "cell_type": "markdown",
   "id": "96f998db",
   "metadata": {},
   "source": [
    "## $\\blacktriangleright$ RFM 변수 생성\n",
    "- Recency(최근 구매일), Frequency(구매빈도), Monetary(구매금액)의 약자로, 고객 평가와 세분화를 위한 기법 중 하나이다.<br>\n",
    "  $\\bullet$ Recency: 최근에 상품이나 서비스를 구매한 고객은 새로운 마케팅에 잠재적으로 더 높은 관심을 가질 수 있음을 반영한 지표<br>\n",
    "  $\\bullet$ Frequency: 자주 구매하는 고객은 브랜드에 대한 충성도가 높을 가능성이 있음을 반영한 지표<br>\n",
    "  $\\bullet$ Monetary: 높은 구매 금액을 가진 고객은 기업의 수익에 더 많은 기여를 할 수 있음을 반영한 지표\n",
    "- 고객의 행동 패턴을 분석하고 고객 세분화 및 군집별 가치 있는 정보를 도출해 효과적인 `타켓` 마케팅 전략을 수립하고 개선할 수 있다."
   ]
  },
  {
   "cell_type": "code",
   "execution_count": 4,
   "id": "9533e69c",
   "metadata": {},
   "outputs": [
    {
     "data": {
      "text/plain": [
       "(3214, 3)"
      ]
     },
     "execution_count": 4,
     "metadata": {},
     "output_type": "execute_result"
    }
   ],
   "source": [
    "department = purchase.query('매장ID==\"백화점\"')\n",
    "departmentfeature = pd.concat([department.groupby('ID')['구매일자'].agg(lambda x: (pd.to_datetime(\"2015-01-01\")-x.max()).days).rename('recency'),\n",
    "                               department.groupby('ID')['거래ID'].nunique().rename('frequency'),\n",
    "                               department.groupby('ID')['구매금액'].sum().rename('monetary')], axis=1)\n",
    "departmentfeature.shape"
   ]
  },
  {
   "cell_type": "code",
   "execution_count": 5,
   "id": "fa4ab914",
   "metadata": {
    "scrolled": false
   },
   "outputs": [
    {
     "data": {
      "image/png": "[encoded data removed]",
      "text/plain": [
       "<Figure size 1080x360 with 3 Axes>"
      ]
     },
     "metadata": {
      "needs_background": "light"
     },
     "output_type": "display_data"
    }
   ],
   "source": [
    "fig, ax = plt.subplots(1,3,figsize=(15,5))\n",
    "sns.histplot(departmentfeature['recency'], bins=30, color='firebrick', ax=ax[0])\n",
    "sns.histplot(departmentfeature['frequency'], bins=30, color='firebrick', ax=ax[1])\n",
    "sns.histplot(departmentfeature['monetary'], bins=30, color='firebrick', ax=ax[2])\n",
    "ax[0].set_title(f\"Recency\\n(skew: {departmentfeature.recency.skew()})\")\n",
    "ax[1].set_title(f\"Frequency\\n(skew: {departmentfeature.frequency.skew()}\")\n",
    "ax[2].set_title(f\"Monetary\\n(skew: {departmentfeature.monetary.skew()}\")\n",
    "plt.show()"
   ]
  },
  {
   "cell_type": "code",
   "execution_count": 6,
   "id": "6925cf30",
   "metadata": {},
   "outputs": [
    {
     "data": {
      "text/plain": [
       "(2785, 3)"
      ]
     },
     "execution_count": 6,
     "metadata": {},
     "output_type": "execute_result"
    }
   ],
   "source": [
    "himart = purchase.query('매장ID==\"하이마트\"')\n",
    "himartfeature = pd.concat([himart.groupby('ID')['구매일자'].agg(lambda x: (pd.to_datetime(\"2015-01-01\") - x.max()).days).rename('recency'),\n",
    "                           himart.groupby('ID')['거래ID'].nunique().rename('frequency'),\n",
    "                           himart.groupby('ID')['구매금액'].sum().rename('monetary')], axis=1)\n",
    "himartfeature.shape"
   ]
  },
  {
   "cell_type": "code",
   "execution_count": 7,
   "id": "2f6a6e52",
   "metadata": {},
   "outputs": [
    {
     "data": {
      "image/png": "[encoded data removed]",
      "text/plain": [
       "<Figure size 1080x360 with 3 Axes>"
      ]
     },
     "metadata": {
      "needs_background": "light"
     },
     "output_type": "display_data"
    }
   ],
   "source": [
    "fig, ax = plt.subplots(1,3,figsize=(15,5))\n",
    "sns.histplot(himartfeature['recency'], bins=20, color='gray', ax=ax[0])\n",
    "sns.histplot(himartfeature['frequency'], bins=20, color='gray', ax=ax[1])\n",
    "sns.histplot(himartfeature['monetary'], bins=20, color='gray', ax=ax[2])\n",
    "ax[0].set_title(f\"Recency\\n(skew: {himartfeature.recency.skew()})\")\n",
    "ax[1].set_title(f\"Frequency\\n(skew: {himartfeature.frequency.skew()}\")\n",
    "ax[2].set_title(f\"Monetary\\n(skew: {himartfeature.monetary.skew()}\")\n",
    "plt.show()"
   ]
  },
  {
   "cell_type": "markdown",
   "id": "944c701e",
   "metadata": {},
   "source": [
    "## $\\blacktriangleright$ 이상치 제거\n",
    "- 방법1) IQR box를 사용해 데이터를 제거하면 백화점 고객의 29%, 하이마트 고객의 20%가 제거된다.\n",
    "- 방법2) 정규분포로 변환하고 Zscore를 사용해 제거한다.<br>\n",
    "  $\\bullet$ np.sqrt로 변환할 경우 백화점과 하이마트 모두 고객의 3% 제거된다. 그러나 변환한 분포가 여전히 왼쪽에 치우친 편이다.<br>\n",
    "  $\\bullet$ log나 boxcox 변환을 위해선 데이터에 +1을 해야 하며 백화점과 하이마트 모두 1%채 제거되지 않는다. 극단값만 제거된다.<br>\n",
    "  $\\bullet$ BoxCox의 왜도가 "
   ]
  },
  {
   "cell_type": "code",
   "execution_count": 8,
   "id": "6a49f50a",
   "metadata": {},
   "outputs": [
    {
     "name": "stdout",
     "output_type": "stream",
     "text": [
      "백화점 skew값: 0.38750596445247637,0.21781981678753054,-0.4498245969488774\n",
      "하이마트 skew값: 0.8799630945695387,0.4497907665076449,-0.8850706282058711\n"
     ]
    }
   ],
   "source": [
    "# 로그 변환 시 0은 inf가 나옴으로 1을 더하고 변환한다. Recency는 작으면 좋음으로 -1을 곱한다.\n",
    "df_log = pd.concat([np.log(departmentfeature['recency']+1) * -1,\n",
    "                    np.log(departmentfeature['frequency']),\n",
    "                    np.log(departmentfeature['monetary']+1)], axis=1)\n",
    "hm_log = pd.concat([np.log(himartfeature['recency']+1) * -1,\n",
    "                    np.log(himartfeature['frequency']),\n",
    "                    np.log(himartfeature['monetary']+1)], axis=1)\n",
    "print(f'백화점 skew값: {df_log.recency.skew()},{df_log.frequency.skew()},{df_log.monetary.skew()}')\n",
    "print(f'하이마트 skew값: {hm_log.recency.skew()},{hm_log.frequency.skew()},{hm_log.monetary.skew()}')"
   ]
  },
  {
   "cell_type": "code",
   "execution_count": 9,
   "id": "00ea0ed5",
   "metadata": {},
   "outputs": [
    {
     "name": "stdout",
     "output_type": "stream",
     "text": [
      "백화점 skew값: -0.6559162165271614,1.4606072307895839,2.7762021773174674\n",
      "하이마트 skew값: -0.5162883974656866,1.4965097713778723,1.4857104811927713\n"
     ]
    }
   ],
   "source": [
    "# 제곱근 변환 후 Recency는 작으면 좋음으로 -1을 곱한다.\n",
    "df_sqrt = pd.concat([np.sqrt(departmentfeature['recency']) * -1,\n",
    "                     np.sqrt(departmentfeature['frequency']),\n",
    "                     np.sqrt(departmentfeature['monetary'])], axis=1)\n",
    "hm_sqrt = pd.concat([np.sqrt(himartfeature['recency']) * -1,\n",
    "                     np.sqrt(himartfeature['frequency']),\n",
    "                     np.sqrt(himartfeature['monetary'])], axis=1)\n",
    "print(f'백화점 skew값: {df_sqrt.recency.skew()},{df_sqrt.frequency.skew()},{df_sqrt.monetary.skew()}')\n",
    "print(f'하이마트 skew값: {hm_sqrt.recency.skew()},{hm_sqrt.frequency.skew()},{hm_sqrt.monetary.skew()}')"
   ]
  },
  {
   "cell_type": "code",
   "execution_count": 10,
   "id": "859ab9a2",
   "metadata": {},
   "outputs": [
    {
     "name": "stdout",
     "output_type": "stream",
     "text": [
      "백화점 skew값: 0.05801734901368859,0.03028651952531054,0.0031056443699263685\n",
      "하이마트 skew값: 0.036429602156180366,0.06423270582988412,-0.0010527293950845017\n"
     ]
    }
   ],
   "source": [
    "# 양수만 box-cox변환을 할 수 있음으로 recency, monetary는 모두 1을 더 해 분포를 밀어주고 변환한다.\n",
    "# Recency는 작으면 좋음으로 -1을 곱해준다.\n",
    "df_bc = pd.concat([pd.Series(boxcox(departmentfeature['recency']+1)[0] * -1, index=departmentfeature.index, name='recency'),\n",
    "                   pd.Series(boxcox(departmentfeature['frequency'])[0], index=departmentfeature.index, name='frequency'),\n",
    "                   pd.Series(boxcox(departmentfeature['monetary']+1)[0], index=departmentfeature.index, name='monetary')], axis=1)\n",
    "hm_bc = pd.concat([pd.Series(boxcox(himartfeature['recency']+1)[0] * -1, index=himartfeature.index, name='recency'),\n",
    "                   pd.Series(boxcox(himartfeature['frequency'])[0], index=himartfeature.index, name='frequency'),\n",
    "                   pd.Series(boxcox(himartfeature['monetary']+1)[0], index=himartfeature.index, name='monetary')], axis=1)\n",
    "print(f'백화점 skew값: {df_bc.recency.skew()},{df_bc.frequency.skew()},{df_bc.monetary.skew()}')\n",
    "print(f'하이마트 skew값: {hm_bc.recency.skew()},{hm_bc.frequency.skew()},{hm_bc.monetary.skew()}')"
   ]
  },
  {
   "cell_type": "code",
   "execution_count": 11,
   "id": "3ef25026",
   "metadata": {},
   "outputs": [],
   "source": [
    "def remove_zscore(data, threshold=3):\n",
    "    # 전체가 False여야 함\n",
    "    z = np.abs(data - np.mean(data)) / np.std(data)\n",
    "    outlier = data[(z > threshold).sum(axis=1) != 0].index\n",
    "    return data.drop(outlier)"
   ]
  },
  {
   "cell_type": "code",
   "execution_count": 12,
   "id": "59453917",
   "metadata": {
    "scrolled": false
   },
   "outputs": [
    {
     "name": "stdout",
     "output_type": "stream",
     "text": [
      "보존 비율: 0.9975108898568762\n",
      "보존 비율: 0.9820466786355476\n"
     ]
    }
   ],
   "source": [
    "# 로그 변환 데이터의 이상치를 제거한다.\n",
    "df_log = remove_zscore(df_log)\n",
    "hm_log = remove_zscore(hm_log)\n",
    "print('보존 비율:', df_log.shape[0]/departmentfeature.shape[0])\n",
    "print('보존 비율:', hm_log.shape[0]/himartfeature.shape[0])"
   ]
  },
  {
   "cell_type": "code",
   "execution_count": 13,
   "id": "4290a27a",
   "metadata": {
    "scrolled": false
   },
   "outputs": [
    {
     "name": "stdout",
     "output_type": "stream",
     "text": [
      "보존 비율: 0.9975108898568762\n",
      "보존 비율: 0.9978456014362657\n"
     ]
    }
   ],
   "source": [
    "# 로그 변환 데이터의 이상치를 제거한다.\n",
    "df_bc = remove_zscore(df_bc)\n",
    "hm_bc = remove_zscore(hm_bc)\n",
    "print('보존 비율:', df_bc.shape[0]/departmentfeature.shape[0])\n",
    "print('보존 비율:', hm_bc.shape[0]/himartfeature.shape[0])"
   ]
  },
  {
   "cell_type": "markdown",
   "id": "597b6fab",
   "metadata": {},
   "source": [
    "## Save data"
   ]
  },
  {
   "cell_type": "code",
   "execution_count": 14,
   "id": "2c7f5e53",
   "metadata": {},
   "outputs": [],
   "source": [
    "pickle.dump((df_log, hm_log, df_bc, hm_bc), open('../data/RFMfeatures.pkl', 'wb'))"
   ]
  },
  {
   "cell_type": "code",
   "execution_count": null,
   "id": "8ab414dc",
   "metadata": {},
   "outputs": [],
   "source": []
  }
 ],
 "metadata": {
  "kernelspec": {
   "display_name": "Python 3 (ipykernel)",
   "language": "python",
   "name": "python3"
  },
  "language_info": {
   "codemirror_mode": {
    "name": "ipython",
    "version": 3
   },
   "file_extension": ".py",
   "mimetype": "text/x-python",
   "name": "python",
   "nbconvert_exporter": "python",
   "pygments_lexer": "ipython3",
   "version": "3.9.12"
  }
 },
 "nbformat": 4,
 "nbformat_minor": 5
}
